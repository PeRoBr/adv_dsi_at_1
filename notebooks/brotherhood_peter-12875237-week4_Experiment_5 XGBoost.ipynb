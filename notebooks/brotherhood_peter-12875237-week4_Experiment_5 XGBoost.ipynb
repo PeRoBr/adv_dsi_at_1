{
 "cells": [
  {
   "cell_type": "markdown",
   "id": "98f4c86c-5e0f-4d90-a25c-849cfca77a78",
   "metadata": {},
   "source": [
    " ### XGBoost - Training Data balanced by upsampling\n",
    " \n",
    " Note that for this series of experiments with XGBoost the data was not scaled first."
   ]
  },
  {
   "cell_type": "code",
   "execution_count": 21,
   "id": "d7724121-9e11-4393-b7a5-155755d1d59d",
   "metadata": {},
   "outputs": [],
   "source": [
    "import pandas as pd\n",
    "import numpy as np\n",
    "from joblib import dump\n",
    "\n",
    "import xgboost as xgb\n",
    "import sklearn.metrics\n",
    "\n",
    "from collections import Counter"
   ]
  },
  {
   "cell_type": "code",
   "execution_count": 2,
   "id": "428d65eb-925a-43ab-8318-046ae967e567",
   "metadata": {},
   "outputs": [],
   "source": [
    "# load unscaled SMOTE and upsampled datasets\n",
    "\n",
    "X_SMOTE = np.load('../data/processed/X_SMOTE.npy')\n",
    "y_SMOTE = np.load('../data/processed/y_SMOTE.npy')\n",
    "\n",
    "X_data_ups = np.load('../data/processed/X_data_ups.npy')\n",
    "y_data_ups = np.load('../data/processed/y_data_ups.npy')\n",
    "\n",
    "\n",
    "X_test = np.load('../data/processed/X_test_SMOTE.npy')\n",
    "y_test = np.load('../data/processed/y_test_SMOTE.npy')"
   ]
  },
  {
   "cell_type": "code",
   "execution_count": 3,
   "id": "9b029b9a-d139-4c1c-af82-1dd18fad7f12",
   "metadata": {},
   "outputs": [
    {
     "name": "stdout",
     "output_type": "stream",
     "text": [
      "(10652, 19)\n",
      "(10652,)\n",
      "(10652, 19)\n",
      "(10652,)\n",
      "(1600, 19)\n",
      "(1600,)\n",
      "Counter({1: 5326, 0: 5326})\n",
      "Counter({1: 5326, 0: 5326})\n",
      "Counter({1: 1343, 0: 257})\n"
     ]
    }
   ],
   "source": [
    "print(X_SMOTE.shape)\n",
    "print(y_SMOTE.shape)\n",
    "print(X_data_ups.shape)\n",
    "print(y_data_ups.shape)\n",
    "print(X_test.shape)\n",
    "print(y_test.shape)\n",
    "\n",
    "print(Counter(y_SMOTE))\n",
    "print(Counter(y_data_ups))\n",
    "print(Counter(y_test))"
   ]
  },
  {
   "cell_type": "markdown",
   "id": "bb8ee29b-62b7-4cba-a841-9d63e137a6c7",
   "metadata": {},
   "source": [
    "### Experiment 1 - XGBoost - default parameters"
   ]
  },
  {
   "cell_type": "code",
   "execution_count": 7,
   "id": "8bafdaf9-5893-4482-9942-d6b02be951b1",
   "metadata": {},
   "outputs": [],
   "source": [
    "xgboost1 = xgb.XGBClassifier() # upsampled data\n",
    "xgboost2 = xgb.XGBClassifier() # SMOTE"
   ]
  },
  {
   "cell_type": "code",
   "execution_count": 8,
   "id": "5ede62c1-c3e7-4aff-941f-1c05e4406d14",
   "metadata": {},
   "outputs": [
    {
     "data": {
      "text/html": [
       "<style>#sk-container-id-2 {color: black;background-color: white;}#sk-container-id-2 pre{padding: 0;}#sk-container-id-2 div.sk-toggleable {background-color: white;}#sk-container-id-2 label.sk-toggleable__label {cursor: pointer;display: block;width: 100%;margin-bottom: 0;padding: 0.3em;box-sizing: border-box;text-align: center;}#sk-container-id-2 label.sk-toggleable__label-arrow:before {content: \"▸\";float: left;margin-right: 0.25em;color: #696969;}#sk-container-id-2 label.sk-toggleable__label-arrow:hover:before {color: black;}#sk-container-id-2 div.sk-estimator:hover label.sk-toggleable__label-arrow:before {color: black;}#sk-container-id-2 div.sk-toggleable__content {max-height: 0;max-width: 0;overflow: hidden;text-align: left;background-color: #f0f8ff;}#sk-container-id-2 div.sk-toggleable__content pre {margin: 0.2em;color: black;border-radius: 0.25em;background-color: #f0f8ff;}#sk-container-id-2 input.sk-toggleable__control:checked~div.sk-toggleable__content {max-height: 200px;max-width: 100%;overflow: auto;}#sk-container-id-2 input.sk-toggleable__control:checked~label.sk-toggleable__label-arrow:before {content: \"▾\";}#sk-container-id-2 div.sk-estimator input.sk-toggleable__control:checked~label.sk-toggleable__label {background-color: #d4ebff;}#sk-container-id-2 div.sk-label input.sk-toggleable__control:checked~label.sk-toggleable__label {background-color: #d4ebff;}#sk-container-id-2 input.sk-hidden--visually {border: 0;clip: rect(1px 1px 1px 1px);clip: rect(1px, 1px, 1px, 1px);height: 1px;margin: -1px;overflow: hidden;padding: 0;position: absolute;width: 1px;}#sk-container-id-2 div.sk-estimator {font-family: monospace;background-color: #f0f8ff;border: 1px dotted black;border-radius: 0.25em;box-sizing: border-box;margin-bottom: 0.5em;}#sk-container-id-2 div.sk-estimator:hover {background-color: #d4ebff;}#sk-container-id-2 div.sk-parallel-item::after {content: \"\";width: 100%;border-bottom: 1px solid gray;flex-grow: 1;}#sk-container-id-2 div.sk-label:hover label.sk-toggleable__label {background-color: #d4ebff;}#sk-container-id-2 div.sk-serial::before {content: \"\";position: absolute;border-left: 1px solid gray;box-sizing: border-box;top: 0;bottom: 0;left: 50%;z-index: 0;}#sk-container-id-2 div.sk-serial {display: flex;flex-direction: column;align-items: center;background-color: white;padding-right: 0.2em;padding-left: 0.2em;position: relative;}#sk-container-id-2 div.sk-item {position: relative;z-index: 1;}#sk-container-id-2 div.sk-parallel {display: flex;align-items: stretch;justify-content: center;background-color: white;position: relative;}#sk-container-id-2 div.sk-item::before, #sk-container-id-2 div.sk-parallel-item::before {content: \"\";position: absolute;border-left: 1px solid gray;box-sizing: border-box;top: 0;bottom: 0;left: 50%;z-index: -1;}#sk-container-id-2 div.sk-parallel-item {display: flex;flex-direction: column;z-index: 1;position: relative;background-color: white;}#sk-container-id-2 div.sk-parallel-item:first-child::after {align-self: flex-end;width: 50%;}#sk-container-id-2 div.sk-parallel-item:last-child::after {align-self: flex-start;width: 50%;}#sk-container-id-2 div.sk-parallel-item:only-child::after {width: 0;}#sk-container-id-2 div.sk-dashed-wrapped {border: 1px dashed gray;margin: 0 0.4em 0.5em 0.4em;box-sizing: border-box;padding-bottom: 0.4em;background-color: white;}#sk-container-id-2 div.sk-label label {font-family: monospace;font-weight: bold;display: inline-block;line-height: 1.2em;}#sk-container-id-2 div.sk-label-container {text-align: center;}#sk-container-id-2 div.sk-container {/* jupyter's `normalize.less` sets `[hidden] { display: none; }` but bootstrap.min.css set `[hidden] { display: none !important; }` so we also need the `!important` here to be able to override the default hidden behavior on the sphinx rendered scikit-learn.org. See: https://github.com/scikit-learn/scikit-learn/issues/21755 */display: inline-block !important;position: relative;}#sk-container-id-2 div.sk-text-repr-fallback {display: none;}</style><div id=\"sk-container-id-2\" class=\"sk-top-container\"><div class=\"sk-text-repr-fallback\"><pre>XGBClassifier(base_score=0.5, booster=&#x27;gbtree&#x27;, callbacks=None,\n",
       "              colsample_bylevel=1, colsample_bynode=1, colsample_bytree=1,\n",
       "              early_stopping_rounds=None, enable_categorical=False,\n",
       "              eval_metric=None, feature_types=None, gamma=0, gpu_id=-1,\n",
       "              grow_policy=&#x27;depthwise&#x27;, importance_type=None,\n",
       "              interaction_constraints=&#x27;&#x27;, learning_rate=0.300000012,\n",
       "              max_bin=256, max_cat_threshold=64, max_cat_to_onehot=4,\n",
       "              max_delta_step=0, max_depth=6, max_leaves=0, min_child_weight=1,\n",
       "              missing=nan, monotone_constraints=&#x27;()&#x27;, n_estimators=100,\n",
       "              n_jobs=0, num_parallel_tree=1, predictor=&#x27;auto&#x27;, random_state=0, ...)</pre><b>In a Jupyter environment, please rerun this cell to show the HTML representation or trust the notebook. <br />On GitHub, the HTML representation is unable to render, please try loading this page with nbviewer.org.</b></div><div class=\"sk-container\" hidden><div class=\"sk-item\"><div class=\"sk-estimator sk-toggleable\"><input class=\"sk-toggleable__control sk-hidden--visually\" id=\"sk-estimator-id-2\" type=\"checkbox\" checked><label for=\"sk-estimator-id-2\" class=\"sk-toggleable__label sk-toggleable__label-arrow\">XGBClassifier</label><div class=\"sk-toggleable__content\"><pre>XGBClassifier(base_score=0.5, booster=&#x27;gbtree&#x27;, callbacks=None,\n",
       "              colsample_bylevel=1, colsample_bynode=1, colsample_bytree=1,\n",
       "              early_stopping_rounds=None, enable_categorical=False,\n",
       "              eval_metric=None, feature_types=None, gamma=0, gpu_id=-1,\n",
       "              grow_policy=&#x27;depthwise&#x27;, importance_type=None,\n",
       "              interaction_constraints=&#x27;&#x27;, learning_rate=0.300000012,\n",
       "              max_bin=256, max_cat_threshold=64, max_cat_to_onehot=4,\n",
       "              max_delta_step=0, max_depth=6, max_leaves=0, min_child_weight=1,\n",
       "              missing=nan, monotone_constraints=&#x27;()&#x27;, n_estimators=100,\n",
       "              n_jobs=0, num_parallel_tree=1, predictor=&#x27;auto&#x27;, random_state=0, ...)</pre></div></div></div></div></div>"
      ],
      "text/plain": [
       "XGBClassifier(base_score=0.5, booster='gbtree', callbacks=None,\n",
       "              colsample_bylevel=1, colsample_bynode=1, colsample_bytree=1,\n",
       "              early_stopping_rounds=None, enable_categorical=False,\n",
       "              eval_metric=None, feature_types=None, gamma=0, gpu_id=-1,\n",
       "              grow_policy='depthwise', importance_type=None,\n",
       "              interaction_constraints='', learning_rate=0.300000012,\n",
       "              max_bin=256, max_cat_threshold=64, max_cat_to_onehot=4,\n",
       "              max_delta_step=0, max_depth=6, max_leaves=0, min_child_weight=1,\n",
       "              missing=nan, monotone_constraints='()', n_estimators=100,\n",
       "              n_jobs=0, num_parallel_tree=1, predictor='auto', random_state=0, ...)"
      ]
     },
     "execution_count": 8,
     "metadata": {},
     "output_type": "execute_result"
    }
   ],
   "source": [
    "xgboost1.fit(X_data_ups, y_data_ups)\n",
    "xgboost2.fit(X_SMOTE, y_SMOTE)"
   ]
  },
  {
   "cell_type": "code",
   "execution_count": 9,
   "id": "7ffa78d6-6663-43b3-866f-b9ff9af399cc",
   "metadata": {},
   "outputs": [
    {
     "data": {
      "text/plain": [
       "array([[0.24916434, 0.75083566],\n",
       "       [0.6719456 , 0.32805443],\n",
       "       [0.01499593, 0.98500407],\n",
       "       ...,\n",
       "       [0.07802254, 0.92197746],\n",
       "       [0.04678053, 0.9532195 ],\n",
       "       [0.01347542, 0.9865246 ]], dtype=float32)"
      ]
     },
     "execution_count": 9,
     "metadata": {},
     "output_type": "execute_result"
    }
   ],
   "source": [
    "xgboost1.predict_proba(X_test)\n",
    "xgboost2.predict_proba(X_test)"
   ]
  },
  {
   "cell_type": "markdown",
   "id": "d9c4f08f-b8f7-4fcd-ad4a-4864a38e2899",
   "metadata": {},
   "source": [
    "### Experiment 1 - AUROC"
   ]
  },
  {
   "cell_type": "code",
   "execution_count": 10,
   "id": "2f868203-2d85-4577-8832-82c0f2fee0e5",
   "metadata": {},
   "outputs": [],
   "source": [
    "from sklearn.metrics import roc_auc_score"
   ]
  },
  {
   "cell_type": "code",
   "execution_count": 11,
   "id": "06a3ccee-47a0-4774-9ec3-7612cb07647f",
   "metadata": {},
   "outputs": [
    {
     "data": {
      "text/plain": [
       "Counter({0: 257, 1: 1343})"
      ]
     },
     "execution_count": 11,
     "metadata": {},
     "output_type": "execute_result"
    }
   ],
   "source": [
    "target = np.array(y_test)\n",
    "Counter(target)"
   ]
  },
  {
   "cell_type": "code",
   "execution_count": 13,
   "id": "db1c61a5-26ac-4cc6-b494-bb920fe698b4",
   "metadata": {},
   "outputs": [
    {
     "name": "stdout",
     "output_type": "stream",
     "text": [
      "xgboost1, upsampled data: 0.64397032023665\n",
      "xgboost2, SMOTE: 0.6405486294404478\n"
     ]
    }
   ],
   "source": [
    "df_pred_xgboost1 = pd.DataFrame(xgboost1.predict_proba(X_test))\n",
    "df_pred_xgboost2 = pd.DataFrame(xgboost2.predict_proba(X_test))\n",
    "\n",
    "pred_xgboost1 = np.array(df_pred_xgboost1[1])\n",
    "pred_xgboost2 = np.array(df_pred_xgboost2[1])\n",
    "\n",
    "print('xgboost1, upsampled data:', roc_auc_score(target, pred_xgboost1))\n",
    "print('xgboost2, SMOTE:', roc_auc_score(target, pred_xgboost2))"
   ]
  },
  {
   "cell_type": "markdown",
   "id": "04294e42-7b85-4a8f-b131-2277f121db78",
   "metadata": {},
   "source": [
    "### Experiment 2 - Tune with Hyperopt"
   ]
  },
  {
   "cell_type": "code",
   "execution_count": 14,
   "id": "51001694-220e-4311-a58e-64a8960d39bb",
   "metadata": {},
   "outputs": [],
   "source": [
    "from hyperopt import Trials, STATUS_OK, tpe, hp, fmin"
   ]
  },
  {
   "cell_type": "code",
   "execution_count": 15,
   "id": "1dd07aad-fa17-4137-89dc-3013901ee207",
   "metadata": {},
   "outputs": [],
   "source": [
    "space = {\n",
    "    'max_depth' : hp.choice('max_depth', range(5, 20, 1)),\n",
    "    'learning_rate' : hp.quniform('learning_rate', 0.01, 0.5, 0.05),\n",
    "    'min_child_weight' : hp.quniform('min_child_weight', 1, 10, 1),\n",
    "    'subsample' : hp.quniform('subsample', 0.1, 1, 0.05),\n",
    "    'colsample_bytree' : hp.quniform('colsample_bytree', 0.1, 1.0, 0.05)\n",
    "}"
   ]
  },
  {
   "cell_type": "code",
   "execution_count": 23,
   "id": "b5c8c857-64f4-4ce4-88ee-fa4ee1cfaea7",
   "metadata": {},
   "outputs": [],
   "source": [
    "def objective(space):\n",
    "    from sklearn.model_selection import cross_val_score\n",
    "    \n",
    "    xgboost = xgb.XGBClassifier(\n",
    "        max_depth = int(space['max_depth']),\n",
    "        learning_rate = space['learning_rate'],\n",
    "        min_child_weight = space['min_child_weight'],\n",
    "        subsample = space['subsample'],\n",
    "        colsample_bytree = space['colsample_bytree']\n",
    "    )\n",
    "    \n",
    "    auroc = cross_val_score(xgboost, X_data_ups, y_data_ups, cv=10, scoring=\"roc_auc\").mean()\n",
    "\n",
    "    return{'loss': 1-auroc, 'status': STATUS_OK }"
   ]
  },
  {
   "cell_type": "code",
   "execution_count": 22,
   "id": "a1d6ed36-9aa5-4565-a272-fcd91a0cc80e",
   "metadata": {},
   "outputs": [
    {
     "data": {
      "text/plain": [
       "['accuracy',\n",
       " 'adjusted_mutual_info_score',\n",
       " 'adjusted_rand_score',\n",
       " 'average_precision',\n",
       " 'balanced_accuracy',\n",
       " 'completeness_score',\n",
       " 'explained_variance',\n",
       " 'f1',\n",
       " 'f1_macro',\n",
       " 'f1_micro',\n",
       " 'f1_samples',\n",
       " 'f1_weighted',\n",
       " 'fowlkes_mallows_score',\n",
       " 'homogeneity_score',\n",
       " 'jaccard',\n",
       " 'jaccard_macro',\n",
       " 'jaccard_micro',\n",
       " 'jaccard_samples',\n",
       " 'jaccard_weighted',\n",
       " 'matthews_corrcoef',\n",
       " 'max_error',\n",
       " 'mutual_info_score',\n",
       " 'neg_brier_score',\n",
       " 'neg_log_loss',\n",
       " 'neg_mean_absolute_error',\n",
       " 'neg_mean_absolute_percentage_error',\n",
       " 'neg_mean_gamma_deviance',\n",
       " 'neg_mean_poisson_deviance',\n",
       " 'neg_mean_squared_error',\n",
       " 'neg_mean_squared_log_error',\n",
       " 'neg_median_absolute_error',\n",
       " 'neg_root_mean_squared_error',\n",
       " 'normalized_mutual_info_score',\n",
       " 'precision',\n",
       " 'precision_macro',\n",
       " 'precision_micro',\n",
       " 'precision_samples',\n",
       " 'precision_weighted',\n",
       " 'r2',\n",
       " 'rand_score',\n",
       " 'recall',\n",
       " 'recall_macro',\n",
       " 'recall_micro',\n",
       " 'recall_samples',\n",
       " 'recall_weighted',\n",
       " 'roc_auc',\n",
       " 'roc_auc_ovo',\n",
       " 'roc_auc_ovo_weighted',\n",
       " 'roc_auc_ovr',\n",
       " 'roc_auc_ovr_weighted',\n",
       " 'top_k_accuracy',\n",
       " 'v_measure_score']"
      ]
     },
     "execution_count": 22,
     "metadata": {},
     "output_type": "execute_result"
    }
   ],
   "source": [
    "sklearn.metrics.get_scorer_names()"
   ]
  },
  {
   "cell_type": "code",
   "execution_count": 24,
   "id": "5318a9c7-b137-4c09-8ff6-ca94f556f574",
   "metadata": {},
   "outputs": [
    {
     "name": "stdout",
     "output_type": "stream",
     "text": [
      "100% 5/5 [00:33<00:00,  6.69s/trial, best loss: 0.0053530839125736085]\n"
     ]
    }
   ],
   "source": [
    "best = fmin(\n",
    "    fn=objective,   \n",
    "    space=space,       \n",
    "    algo=tpe.suggest,       \n",
    "    max_evals=5\n",
    ")"
   ]
  },
  {
   "cell_type": "code",
   "execution_count": 25,
   "id": "40938c19-b951-4987-8dde-7c0d0021531a",
   "metadata": {},
   "outputs": [
    {
     "name": "stdout",
     "output_type": "stream",
     "text": [
      "Best:  {'colsample_bytree': 0.55, 'learning_rate': 0.25, 'max_depth': 10, 'min_child_weight': 2.0, 'subsample': 0.75}\n"
     ]
    }
   ],
   "source": [
    "print(\"Best: \", best)"
   ]
  },
  {
   "cell_type": "code",
   "execution_count": 26,
   "id": "5da71152-aadb-4c03-a539-570ee338c097",
   "metadata": {},
   "outputs": [],
   "source": [
    "xgboost3 = xgb.XGBClassifier(\n",
    "    max_depth = best['max_depth'],\n",
    "    learning_rate = best['learning_rate'],\n",
    "    min_child_weight = best['min_child_weight'],\n",
    "    subsample = best['subsample'],\n",
    "    colsample_bytree = best['colsample_bytree']\n",
    ")"
   ]
  },
  {
   "cell_type": "code",
   "execution_count": 27,
   "id": "1e90dfd5-00d9-4d88-a108-f12931ce20d8",
   "metadata": {},
   "outputs": [
    {
     "data": {
      "text/html": [
       "<style>#sk-container-id-3 {color: black;background-color: white;}#sk-container-id-3 pre{padding: 0;}#sk-container-id-3 div.sk-toggleable {background-color: white;}#sk-container-id-3 label.sk-toggleable__label {cursor: pointer;display: block;width: 100%;margin-bottom: 0;padding: 0.3em;box-sizing: border-box;text-align: center;}#sk-container-id-3 label.sk-toggleable__label-arrow:before {content: \"▸\";float: left;margin-right: 0.25em;color: #696969;}#sk-container-id-3 label.sk-toggleable__label-arrow:hover:before {color: black;}#sk-container-id-3 div.sk-estimator:hover label.sk-toggleable__label-arrow:before {color: black;}#sk-container-id-3 div.sk-toggleable__content {max-height: 0;max-width: 0;overflow: hidden;text-align: left;background-color: #f0f8ff;}#sk-container-id-3 div.sk-toggleable__content pre {margin: 0.2em;color: black;border-radius: 0.25em;background-color: #f0f8ff;}#sk-container-id-3 input.sk-toggleable__control:checked~div.sk-toggleable__content {max-height: 200px;max-width: 100%;overflow: auto;}#sk-container-id-3 input.sk-toggleable__control:checked~label.sk-toggleable__label-arrow:before {content: \"▾\";}#sk-container-id-3 div.sk-estimator input.sk-toggleable__control:checked~label.sk-toggleable__label {background-color: #d4ebff;}#sk-container-id-3 div.sk-label input.sk-toggleable__control:checked~label.sk-toggleable__label {background-color: #d4ebff;}#sk-container-id-3 input.sk-hidden--visually {border: 0;clip: rect(1px 1px 1px 1px);clip: rect(1px, 1px, 1px, 1px);height: 1px;margin: -1px;overflow: hidden;padding: 0;position: absolute;width: 1px;}#sk-container-id-3 div.sk-estimator {font-family: monospace;background-color: #f0f8ff;border: 1px dotted black;border-radius: 0.25em;box-sizing: border-box;margin-bottom: 0.5em;}#sk-container-id-3 div.sk-estimator:hover {background-color: #d4ebff;}#sk-container-id-3 div.sk-parallel-item::after {content: \"\";width: 100%;border-bottom: 1px solid gray;flex-grow: 1;}#sk-container-id-3 div.sk-label:hover label.sk-toggleable__label {background-color: #d4ebff;}#sk-container-id-3 div.sk-serial::before {content: \"\";position: absolute;border-left: 1px solid gray;box-sizing: border-box;top: 0;bottom: 0;left: 50%;z-index: 0;}#sk-container-id-3 div.sk-serial {display: flex;flex-direction: column;align-items: center;background-color: white;padding-right: 0.2em;padding-left: 0.2em;position: relative;}#sk-container-id-3 div.sk-item {position: relative;z-index: 1;}#sk-container-id-3 div.sk-parallel {display: flex;align-items: stretch;justify-content: center;background-color: white;position: relative;}#sk-container-id-3 div.sk-item::before, #sk-container-id-3 div.sk-parallel-item::before {content: \"\";position: absolute;border-left: 1px solid gray;box-sizing: border-box;top: 0;bottom: 0;left: 50%;z-index: -1;}#sk-container-id-3 div.sk-parallel-item {display: flex;flex-direction: column;z-index: 1;position: relative;background-color: white;}#sk-container-id-3 div.sk-parallel-item:first-child::after {align-self: flex-end;width: 50%;}#sk-container-id-3 div.sk-parallel-item:last-child::after {align-self: flex-start;width: 50%;}#sk-container-id-3 div.sk-parallel-item:only-child::after {width: 0;}#sk-container-id-3 div.sk-dashed-wrapped {border: 1px dashed gray;margin: 0 0.4em 0.5em 0.4em;box-sizing: border-box;padding-bottom: 0.4em;background-color: white;}#sk-container-id-3 div.sk-label label {font-family: monospace;font-weight: bold;display: inline-block;line-height: 1.2em;}#sk-container-id-3 div.sk-label-container {text-align: center;}#sk-container-id-3 div.sk-container {/* jupyter's `normalize.less` sets `[hidden] { display: none; }` but bootstrap.min.css set `[hidden] { display: none !important; }` so we also need the `!important` here to be able to override the default hidden behavior on the sphinx rendered scikit-learn.org. See: https://github.com/scikit-learn/scikit-learn/issues/21755 */display: inline-block !important;position: relative;}#sk-container-id-3 div.sk-text-repr-fallback {display: none;}</style><div id=\"sk-container-id-3\" class=\"sk-top-container\"><div class=\"sk-text-repr-fallback\"><pre>XGBClassifier(base_score=0.5, booster=&#x27;gbtree&#x27;, callbacks=None,\n",
       "              colsample_bylevel=1, colsample_bynode=1, colsample_bytree=0.55,\n",
       "              early_stopping_rounds=None, enable_categorical=False,\n",
       "              eval_metric=None, feature_types=None, gamma=0, gpu_id=-1,\n",
       "              grow_policy=&#x27;depthwise&#x27;, importance_type=None,\n",
       "              interaction_constraints=&#x27;&#x27;, learning_rate=0.25, max_bin=256,\n",
       "              max_cat_threshold=64, max_cat_to_onehot=4, max_delta_step=0,\n",
       "              max_depth=10, max_leaves=0, min_child_weight=2.0, missing=nan,\n",
       "              monotone_constraints=&#x27;()&#x27;, n_estimators=100, n_jobs=0,\n",
       "              num_parallel_tree=1, predictor=&#x27;auto&#x27;, random_state=0, ...)</pre><b>In a Jupyter environment, please rerun this cell to show the HTML representation or trust the notebook. <br />On GitHub, the HTML representation is unable to render, please try loading this page with nbviewer.org.</b></div><div class=\"sk-container\" hidden><div class=\"sk-item\"><div class=\"sk-estimator sk-toggleable\"><input class=\"sk-toggleable__control sk-hidden--visually\" id=\"sk-estimator-id-3\" type=\"checkbox\" checked><label for=\"sk-estimator-id-3\" class=\"sk-toggleable__label sk-toggleable__label-arrow\">XGBClassifier</label><div class=\"sk-toggleable__content\"><pre>XGBClassifier(base_score=0.5, booster=&#x27;gbtree&#x27;, callbacks=None,\n",
       "              colsample_bylevel=1, colsample_bynode=1, colsample_bytree=0.55,\n",
       "              early_stopping_rounds=None, enable_categorical=False,\n",
       "              eval_metric=None, feature_types=None, gamma=0, gpu_id=-1,\n",
       "              grow_policy=&#x27;depthwise&#x27;, importance_type=None,\n",
       "              interaction_constraints=&#x27;&#x27;, learning_rate=0.25, max_bin=256,\n",
       "              max_cat_threshold=64, max_cat_to_onehot=4, max_delta_step=0,\n",
       "              max_depth=10, max_leaves=0, min_child_weight=2.0, missing=nan,\n",
       "              monotone_constraints=&#x27;()&#x27;, n_estimators=100, n_jobs=0,\n",
       "              num_parallel_tree=1, predictor=&#x27;auto&#x27;, random_state=0, ...)</pre></div></div></div></div></div>"
      ],
      "text/plain": [
       "XGBClassifier(base_score=0.5, booster='gbtree', callbacks=None,\n",
       "              colsample_bylevel=1, colsample_bynode=1, colsample_bytree=0.55,\n",
       "              early_stopping_rounds=None, enable_categorical=False,\n",
       "              eval_metric=None, feature_types=None, gamma=0, gpu_id=-1,\n",
       "              grow_policy='depthwise', importance_type=None,\n",
       "              interaction_constraints='', learning_rate=0.25, max_bin=256,\n",
       "              max_cat_threshold=64, max_cat_to_onehot=4, max_delta_step=0,\n",
       "              max_depth=10, max_leaves=0, min_child_weight=2.0, missing=nan,\n",
       "              monotone_constraints='()', n_estimators=100, n_jobs=0,\n",
       "              num_parallel_tree=1, predictor='auto', random_state=0, ...)"
      ]
     },
     "execution_count": 27,
     "metadata": {},
     "output_type": "execute_result"
    }
   ],
   "source": [
    "xgboost3.fit(X_data_ups, y_data_ups)"
   ]
  },
  {
   "cell_type": "markdown",
   "id": "452ecb58-28da-4611-818b-c566d48a3b83",
   "metadata": {},
   "source": [
    "### Experiment 2 - AUROC for optimised XGBoost3 - OVERFITTING ON TRAINING DATA"
   ]
  },
  {
   "cell_type": "code",
   "execution_count": 32,
   "id": "6e241dec-71b0-400e-92e1-4d22a92e82a3",
   "metadata": {},
   "outputs": [
    {
     "name": "stdout",
     "output_type": "stream",
     "text": [
      "xgboost3, upsampled training data, test: 0.6340384353514839\n"
     ]
    }
   ],
   "source": [
    "df_pred_xgboost3 = pd.DataFrame(xgboost3.predict_proba(X_test))\n",
    "\n",
    "pred_xgboost3 = np.array(df_pred_xgboost3[1])\n",
    "\n",
    "print('xgboost3, upsampled training data, test:', roc_auc_score(target, pred_xgboost3))"
   ]
  },
  {
   "cell_type": "code",
   "execution_count": 33,
   "id": "5f419e33-4567-4640-bdf6-999b11d56664",
   "metadata": {},
   "outputs": [
    {
     "name": "stdout",
     "output_type": "stream",
     "text": [
      "xgboost3, upsampled training data, train set: 1.0\n"
     ]
    }
   ],
   "source": [
    "df_pred_xgboost3 = pd.DataFrame(xgboost3.predict_proba(X_data_ups))\n",
    "\n",
    "pred_xgboost3 = np.array(df_pred_xgboost3[1])\n",
    "\n",
    "print('xgboost3, upsampled training data, train set:', roc_auc_score(y_data_ups, pred_xgboost3))"
   ]
  },
  {
   "cell_type": "code",
   "execution_count": 34,
   "id": "ce33f911-b8fe-4fff-bbe0-97ff0b3dbc03",
   "metadata": {},
   "outputs": [
    {
     "name": "stdout",
     "output_type": "stream",
     "text": [
      "xgboost1, upsampled data: 0.9993739044208693\n"
     ]
    }
   ],
   "source": [
    "df_pred_xgboost1 = pd.DataFrame(xgboost1.predict_proba(X_data_ups))\n",
    "\n",
    "pred_xgboost1 = np.array(df_pred_xgboost1[1])\n",
    "\n",
    "print('xgboost1, upsampled data, train set:', roc_auc_score(y_data_ups, pred_xgboost1))"
   ]
  },
  {
   "cell_type": "markdown",
   "id": "3e7f0f29-97d1-4c69-a165-334a336e5b1e",
   "metadata": {},
   "source": [
    "### Experiment 3 - XGBoost guess some parameters to reduce overfittig"
   ]
  },
  {
   "cell_type": "code",
   "execution_count": 39,
   "id": "e11ed87a-f15c-4d83-b175-88cb8a17c2de",
   "metadata": {},
   "outputs": [],
   "source": [
    "xgboost4 = xgb.XGBClassifier(colsample_bytree = 0.3, subsample = 0.25, max_depth = 5, n_estimators = 1000, learning_rate = 0.1)"
   ]
  },
  {
   "cell_type": "code",
   "execution_count": 40,
   "id": "3353e70e-ced2-4fd5-a730-1edc98bc2ba8",
   "metadata": {},
   "outputs": [
    {
     "data": {
      "text/html": [
       "<style>#sk-container-id-5 {color: black;background-color: white;}#sk-container-id-5 pre{padding: 0;}#sk-container-id-5 div.sk-toggleable {background-color: white;}#sk-container-id-5 label.sk-toggleable__label {cursor: pointer;display: block;width: 100%;margin-bottom: 0;padding: 0.3em;box-sizing: border-box;text-align: center;}#sk-container-id-5 label.sk-toggleable__label-arrow:before {content: \"▸\";float: left;margin-right: 0.25em;color: #696969;}#sk-container-id-5 label.sk-toggleable__label-arrow:hover:before {color: black;}#sk-container-id-5 div.sk-estimator:hover label.sk-toggleable__label-arrow:before {color: black;}#sk-container-id-5 div.sk-toggleable__content {max-height: 0;max-width: 0;overflow: hidden;text-align: left;background-color: #f0f8ff;}#sk-container-id-5 div.sk-toggleable__content pre {margin: 0.2em;color: black;border-radius: 0.25em;background-color: #f0f8ff;}#sk-container-id-5 input.sk-toggleable__control:checked~div.sk-toggleable__content {max-height: 200px;max-width: 100%;overflow: auto;}#sk-container-id-5 input.sk-toggleable__control:checked~label.sk-toggleable__label-arrow:before {content: \"▾\";}#sk-container-id-5 div.sk-estimator input.sk-toggleable__control:checked~label.sk-toggleable__label {background-color: #d4ebff;}#sk-container-id-5 div.sk-label input.sk-toggleable__control:checked~label.sk-toggleable__label {background-color: #d4ebff;}#sk-container-id-5 input.sk-hidden--visually {border: 0;clip: rect(1px 1px 1px 1px);clip: rect(1px, 1px, 1px, 1px);height: 1px;margin: -1px;overflow: hidden;padding: 0;position: absolute;width: 1px;}#sk-container-id-5 div.sk-estimator {font-family: monospace;background-color: #f0f8ff;border: 1px dotted black;border-radius: 0.25em;box-sizing: border-box;margin-bottom: 0.5em;}#sk-container-id-5 div.sk-estimator:hover {background-color: #d4ebff;}#sk-container-id-5 div.sk-parallel-item::after {content: \"\";width: 100%;border-bottom: 1px solid gray;flex-grow: 1;}#sk-container-id-5 div.sk-label:hover label.sk-toggleable__label {background-color: #d4ebff;}#sk-container-id-5 div.sk-serial::before {content: \"\";position: absolute;border-left: 1px solid gray;box-sizing: border-box;top: 0;bottom: 0;left: 50%;z-index: 0;}#sk-container-id-5 div.sk-serial {display: flex;flex-direction: column;align-items: center;background-color: white;padding-right: 0.2em;padding-left: 0.2em;position: relative;}#sk-container-id-5 div.sk-item {position: relative;z-index: 1;}#sk-container-id-5 div.sk-parallel {display: flex;align-items: stretch;justify-content: center;background-color: white;position: relative;}#sk-container-id-5 div.sk-item::before, #sk-container-id-5 div.sk-parallel-item::before {content: \"\";position: absolute;border-left: 1px solid gray;box-sizing: border-box;top: 0;bottom: 0;left: 50%;z-index: -1;}#sk-container-id-5 div.sk-parallel-item {display: flex;flex-direction: column;z-index: 1;position: relative;background-color: white;}#sk-container-id-5 div.sk-parallel-item:first-child::after {align-self: flex-end;width: 50%;}#sk-container-id-5 div.sk-parallel-item:last-child::after {align-self: flex-start;width: 50%;}#sk-container-id-5 div.sk-parallel-item:only-child::after {width: 0;}#sk-container-id-5 div.sk-dashed-wrapped {border: 1px dashed gray;margin: 0 0.4em 0.5em 0.4em;box-sizing: border-box;padding-bottom: 0.4em;background-color: white;}#sk-container-id-5 div.sk-label label {font-family: monospace;font-weight: bold;display: inline-block;line-height: 1.2em;}#sk-container-id-5 div.sk-label-container {text-align: center;}#sk-container-id-5 div.sk-container {/* jupyter's `normalize.less` sets `[hidden] { display: none; }` but bootstrap.min.css set `[hidden] { display: none !important; }` so we also need the `!important` here to be able to override the default hidden behavior on the sphinx rendered scikit-learn.org. See: https://github.com/scikit-learn/scikit-learn/issues/21755 */display: inline-block !important;position: relative;}#sk-container-id-5 div.sk-text-repr-fallback {display: none;}</style><div id=\"sk-container-id-5\" class=\"sk-top-container\"><div class=\"sk-text-repr-fallback\"><pre>XGBClassifier(base_score=0.5, booster=&#x27;gbtree&#x27;, callbacks=None,\n",
       "              colsample_bylevel=1, colsample_bynode=1, colsample_bytree=0.3,\n",
       "              early_stopping_rounds=None, enable_categorical=False,\n",
       "              eval_metric=None, feature_types=None, gamma=0, gpu_id=-1,\n",
       "              grow_policy=&#x27;depthwise&#x27;, importance_type=None,\n",
       "              interaction_constraints=&#x27;&#x27;, learning_rate=0.1, max_bin=256,\n",
       "              max_cat_threshold=64, max_cat_to_onehot=4, max_delta_step=0,\n",
       "              max_depth=5, max_leaves=0, min_child_weight=1, missing=nan,\n",
       "              monotone_constraints=&#x27;()&#x27;, n_estimators=1000, n_jobs=0,\n",
       "              num_parallel_tree=1, predictor=&#x27;auto&#x27;, random_state=0, ...)</pre><b>In a Jupyter environment, please rerun this cell to show the HTML representation or trust the notebook. <br />On GitHub, the HTML representation is unable to render, please try loading this page with nbviewer.org.</b></div><div class=\"sk-container\" hidden><div class=\"sk-item\"><div class=\"sk-estimator sk-toggleable\"><input class=\"sk-toggleable__control sk-hidden--visually\" id=\"sk-estimator-id-5\" type=\"checkbox\" checked><label for=\"sk-estimator-id-5\" class=\"sk-toggleable__label sk-toggleable__label-arrow\">XGBClassifier</label><div class=\"sk-toggleable__content\"><pre>XGBClassifier(base_score=0.5, booster=&#x27;gbtree&#x27;, callbacks=None,\n",
       "              colsample_bylevel=1, colsample_bynode=1, colsample_bytree=0.3,\n",
       "              early_stopping_rounds=None, enable_categorical=False,\n",
       "              eval_metric=None, feature_types=None, gamma=0, gpu_id=-1,\n",
       "              grow_policy=&#x27;depthwise&#x27;, importance_type=None,\n",
       "              interaction_constraints=&#x27;&#x27;, learning_rate=0.1, max_bin=256,\n",
       "              max_cat_threshold=64, max_cat_to_onehot=4, max_delta_step=0,\n",
       "              max_depth=5, max_leaves=0, min_child_weight=1, missing=nan,\n",
       "              monotone_constraints=&#x27;()&#x27;, n_estimators=1000, n_jobs=0,\n",
       "              num_parallel_tree=1, predictor=&#x27;auto&#x27;, random_state=0, ...)</pre></div></div></div></div></div>"
      ],
      "text/plain": [
       "XGBClassifier(base_score=0.5, booster='gbtree', callbacks=None,\n",
       "              colsample_bylevel=1, colsample_bynode=1, colsample_bytree=0.3,\n",
       "              early_stopping_rounds=None, enable_categorical=False,\n",
       "              eval_metric=None, feature_types=None, gamma=0, gpu_id=-1,\n",
       "              grow_policy='depthwise', importance_type=None,\n",
       "              interaction_constraints='', learning_rate=0.1, max_bin=256,\n",
       "              max_cat_threshold=64, max_cat_to_onehot=4, max_delta_step=0,\n",
       "              max_depth=5, max_leaves=0, min_child_weight=1, missing=nan,\n",
       "              monotone_constraints='()', n_estimators=1000, n_jobs=0,\n",
       "              num_parallel_tree=1, predictor='auto', random_state=0, ...)"
      ]
     },
     "execution_count": 40,
     "metadata": {},
     "output_type": "execute_result"
    }
   ],
   "source": [
    "xgboost4.fit(X_data_ups, y_data_ups)"
   ]
  },
  {
   "cell_type": "code",
   "execution_count": 41,
   "id": "196a6753-f306-469a-be4e-5895de28125a",
   "metadata": {},
   "outputs": [
    {
     "name": "stdout",
     "output_type": "stream",
     "text": [
      "xgboost4, upsampled training data, test: 0.634134045678558\n"
     ]
    }
   ],
   "source": [
    "df_pred_xgboost4 = pd.DataFrame(xgboost4.predict_proba(X_test))\n",
    "\n",
    "pred_xgboost4 = np.array(df_pred_xgboost4[1])\n",
    "\n",
    "print('xgboost4, upsampled training data, test:', roc_auc_score(target, pred_xgboost4))"
   ]
  },
  {
   "cell_type": "code",
   "execution_count": 42,
   "id": "edd9aa59-48ce-4162-9533-5a52c3fb565c",
   "metadata": {},
   "outputs": [
    {
     "name": "stdout",
     "output_type": "stream",
     "text": [
      "xgboost4, upsampled training data, test: 0.9999576962446534\n"
     ]
    }
   ],
   "source": [
    "df_pred_xgboost4 = pd.DataFrame(xgboost4.predict_proba(X_data_ups))\n",
    "\n",
    "pred_xgboost4 = np.array(df_pred_xgboost4[1])\n",
    "\n",
    "print('xgboost4, upsampled training data, test:', roc_auc_score(y_data_ups, pred_xgboost4))"
   ]
  },
  {
   "cell_type": "code",
   "execution_count": 43,
   "id": "20c353f6-e473-4620-89aa-eefd4a7a8afb",
   "metadata": {},
   "outputs": [],
   "source": [
    "xgboost5 = xgb.XGBClassifier(colsample_bytree = 0.2, subsample = 0.1, max_depth = 3, n_estimators = 1000, learning_rate = 0.1, min_child_weight = 5)"
   ]
  },
  {
   "cell_type": "code",
   "execution_count": 44,
   "id": "4fcd5c55-6937-43dc-8bd3-e17c8cb13cbe",
   "metadata": {},
   "outputs": [
    {
     "data": {
      "text/html": [
       "<style>#sk-container-id-6 {color: black;background-color: white;}#sk-container-id-6 pre{padding: 0;}#sk-container-id-6 div.sk-toggleable {background-color: white;}#sk-container-id-6 label.sk-toggleable__label {cursor: pointer;display: block;width: 100%;margin-bottom: 0;padding: 0.3em;box-sizing: border-box;text-align: center;}#sk-container-id-6 label.sk-toggleable__label-arrow:before {content: \"▸\";float: left;margin-right: 0.25em;color: #696969;}#sk-container-id-6 label.sk-toggleable__label-arrow:hover:before {color: black;}#sk-container-id-6 div.sk-estimator:hover label.sk-toggleable__label-arrow:before {color: black;}#sk-container-id-6 div.sk-toggleable__content {max-height: 0;max-width: 0;overflow: hidden;text-align: left;background-color: #f0f8ff;}#sk-container-id-6 div.sk-toggleable__content pre {margin: 0.2em;color: black;border-radius: 0.25em;background-color: #f0f8ff;}#sk-container-id-6 input.sk-toggleable__control:checked~div.sk-toggleable__content {max-height: 200px;max-width: 100%;overflow: auto;}#sk-container-id-6 input.sk-toggleable__control:checked~label.sk-toggleable__label-arrow:before {content: \"▾\";}#sk-container-id-6 div.sk-estimator input.sk-toggleable__control:checked~label.sk-toggleable__label {background-color: #d4ebff;}#sk-container-id-6 div.sk-label input.sk-toggleable__control:checked~label.sk-toggleable__label {background-color: #d4ebff;}#sk-container-id-6 input.sk-hidden--visually {border: 0;clip: rect(1px 1px 1px 1px);clip: rect(1px, 1px, 1px, 1px);height: 1px;margin: -1px;overflow: hidden;padding: 0;position: absolute;width: 1px;}#sk-container-id-6 div.sk-estimator {font-family: monospace;background-color: #f0f8ff;border: 1px dotted black;border-radius: 0.25em;box-sizing: border-box;margin-bottom: 0.5em;}#sk-container-id-6 div.sk-estimator:hover {background-color: #d4ebff;}#sk-container-id-6 div.sk-parallel-item::after {content: \"\";width: 100%;border-bottom: 1px solid gray;flex-grow: 1;}#sk-container-id-6 div.sk-label:hover label.sk-toggleable__label {background-color: #d4ebff;}#sk-container-id-6 div.sk-serial::before {content: \"\";position: absolute;border-left: 1px solid gray;box-sizing: border-box;top: 0;bottom: 0;left: 50%;z-index: 0;}#sk-container-id-6 div.sk-serial {display: flex;flex-direction: column;align-items: center;background-color: white;padding-right: 0.2em;padding-left: 0.2em;position: relative;}#sk-container-id-6 div.sk-item {position: relative;z-index: 1;}#sk-container-id-6 div.sk-parallel {display: flex;align-items: stretch;justify-content: center;background-color: white;position: relative;}#sk-container-id-6 div.sk-item::before, #sk-container-id-6 div.sk-parallel-item::before {content: \"\";position: absolute;border-left: 1px solid gray;box-sizing: border-box;top: 0;bottom: 0;left: 50%;z-index: -1;}#sk-container-id-6 div.sk-parallel-item {display: flex;flex-direction: column;z-index: 1;position: relative;background-color: white;}#sk-container-id-6 div.sk-parallel-item:first-child::after {align-self: flex-end;width: 50%;}#sk-container-id-6 div.sk-parallel-item:last-child::after {align-self: flex-start;width: 50%;}#sk-container-id-6 div.sk-parallel-item:only-child::after {width: 0;}#sk-container-id-6 div.sk-dashed-wrapped {border: 1px dashed gray;margin: 0 0.4em 0.5em 0.4em;box-sizing: border-box;padding-bottom: 0.4em;background-color: white;}#sk-container-id-6 div.sk-label label {font-family: monospace;font-weight: bold;display: inline-block;line-height: 1.2em;}#sk-container-id-6 div.sk-label-container {text-align: center;}#sk-container-id-6 div.sk-container {/* jupyter's `normalize.less` sets `[hidden] { display: none; }` but bootstrap.min.css set `[hidden] { display: none !important; }` so we also need the `!important` here to be able to override the default hidden behavior on the sphinx rendered scikit-learn.org. See: https://github.com/scikit-learn/scikit-learn/issues/21755 */display: inline-block !important;position: relative;}#sk-container-id-6 div.sk-text-repr-fallback {display: none;}</style><div id=\"sk-container-id-6\" class=\"sk-top-container\"><div class=\"sk-text-repr-fallback\"><pre>XGBClassifier(base_score=0.5, booster=&#x27;gbtree&#x27;, callbacks=None,\n",
       "              colsample_bylevel=1, colsample_bynode=1, colsample_bytree=0.2,\n",
       "              early_stopping_rounds=None, enable_categorical=False,\n",
       "              eval_metric=None, feature_types=None, gamma=0, gpu_id=-1,\n",
       "              grow_policy=&#x27;depthwise&#x27;, importance_type=None,\n",
       "              interaction_constraints=&#x27;&#x27;, learning_rate=0.1, max_bin=256,\n",
       "              max_cat_threshold=64, max_cat_to_onehot=4, max_delta_step=0,\n",
       "              max_depth=3, max_leaves=0, min_child_weight=5, missing=nan,\n",
       "              monotone_constraints=&#x27;()&#x27;, n_estimators=1000, n_jobs=0,\n",
       "              num_parallel_tree=1, predictor=&#x27;auto&#x27;, random_state=0, ...)</pre><b>In a Jupyter environment, please rerun this cell to show the HTML representation or trust the notebook. <br />On GitHub, the HTML representation is unable to render, please try loading this page with nbviewer.org.</b></div><div class=\"sk-container\" hidden><div class=\"sk-item\"><div class=\"sk-estimator sk-toggleable\"><input class=\"sk-toggleable__control sk-hidden--visually\" id=\"sk-estimator-id-6\" type=\"checkbox\" checked><label for=\"sk-estimator-id-6\" class=\"sk-toggleable__label sk-toggleable__label-arrow\">XGBClassifier</label><div class=\"sk-toggleable__content\"><pre>XGBClassifier(base_score=0.5, booster=&#x27;gbtree&#x27;, callbacks=None,\n",
       "              colsample_bylevel=1, colsample_bynode=1, colsample_bytree=0.2,\n",
       "              early_stopping_rounds=None, enable_categorical=False,\n",
       "              eval_metric=None, feature_types=None, gamma=0, gpu_id=-1,\n",
       "              grow_policy=&#x27;depthwise&#x27;, importance_type=None,\n",
       "              interaction_constraints=&#x27;&#x27;, learning_rate=0.1, max_bin=256,\n",
       "              max_cat_threshold=64, max_cat_to_onehot=4, max_delta_step=0,\n",
       "              max_depth=3, max_leaves=0, min_child_weight=5, missing=nan,\n",
       "              monotone_constraints=&#x27;()&#x27;, n_estimators=1000, n_jobs=0,\n",
       "              num_parallel_tree=1, predictor=&#x27;auto&#x27;, random_state=0, ...)</pre></div></div></div></div></div>"
      ],
      "text/plain": [
       "XGBClassifier(base_score=0.5, booster='gbtree', callbacks=None,\n",
       "              colsample_bylevel=1, colsample_bynode=1, colsample_bytree=0.2,\n",
       "              early_stopping_rounds=None, enable_categorical=False,\n",
       "              eval_metric=None, feature_types=None, gamma=0, gpu_id=-1,\n",
       "              grow_policy='depthwise', importance_type=None,\n",
       "              interaction_constraints='', learning_rate=0.1, max_bin=256,\n",
       "              max_cat_threshold=64, max_cat_to_onehot=4, max_delta_step=0,\n",
       "              max_depth=3, max_leaves=0, min_child_weight=5, missing=nan,\n",
       "              monotone_constraints='()', n_estimators=1000, n_jobs=0,\n",
       "              num_parallel_tree=1, predictor='auto', random_state=0, ...)"
      ]
     },
     "execution_count": 44,
     "metadata": {},
     "output_type": "execute_result"
    }
   ],
   "source": [
    "xgboost5.fit(X_data_ups, y_data_ups)"
   ]
  },
  {
   "cell_type": "code",
   "execution_count": 45,
   "id": "034ac4b6-1013-47e2-a22b-bc1777f99c6f",
   "metadata": {},
   "outputs": [
    {
     "name": "stdout",
     "output_type": "stream",
     "text": [
      "xgboost5, upsampled training data, test: 0.630538517924039\n"
     ]
    }
   ],
   "source": [
    "df_pred_xgboost5 = pd.DataFrame(xgboost5.predict_proba(X_test))\n",
    "\n",
    "pred_xgboost5 = np.array(df_pred_xgboost5[1])\n",
    "\n",
    "print('xgboost5, upsampled training data, test:', roc_auc_score(target, pred_xgboost5))"
   ]
  },
  {
   "cell_type": "code",
   "execution_count": 46,
   "id": "f82e059c-09db-4dd8-8a08-f160a688a44e",
   "metadata": {},
   "outputs": [
    {
     "name": "stdout",
     "output_type": "stream",
     "text": [
      "xgboost5, upsampled training data, test: 0.9068105379782669\n"
     ]
    }
   ],
   "source": [
    "df_pred_xgboost5 = pd.DataFrame(xgboost5.predict_proba(X_data_ups))\n",
    "\n",
    "pred_xgboost5 = np.array(df_pred_xgboost5[1])\n",
    "\n",
    "print('xgboost5, upsampled training data, test:', roc_auc_score(y_data_ups, pred_xgboost5))"
   ]
  },
  {
   "cell_type": "code",
   "execution_count": null,
   "id": "cd709c75-af10-4efa-8797-24d3af982000",
   "metadata": {},
   "outputs": [],
   "source": []
  },
  {
   "cell_type": "code",
   "execution_count": null,
   "id": "63ac4156-9742-4391-b459-916a094ccd26",
   "metadata": {},
   "outputs": [],
   "source": []
  },
  {
   "cell_type": "code",
   "execution_count": null,
   "id": "60384513-1cf1-4248-b7ba-08de64ce5676",
   "metadata": {},
   "outputs": [],
   "source": []
  },
  {
   "cell_type": "markdown",
   "id": "d907e8bf-be7a-41b3-b233-5a795d9bdf15",
   "metadata": {},
   "source": [
    "### Manual grid style search of important hyperparameters"
   ]
  },
  {
   "cell_type": "code",
   "execution_count": 9,
   "id": "31de1574-a83c-4051-bc4c-473ec971491f",
   "metadata": {},
   "outputs": [
    {
     "data": {
      "text/html": [
       "<style>#sk-container-id-2 {color: black;background-color: white;}#sk-container-id-2 pre{padding: 0;}#sk-container-id-2 div.sk-toggleable {background-color: white;}#sk-container-id-2 label.sk-toggleable__label {cursor: pointer;display: block;width: 100%;margin-bottom: 0;padding: 0.3em;box-sizing: border-box;text-align: center;}#sk-container-id-2 label.sk-toggleable__label-arrow:before {content: \"▸\";float: left;margin-right: 0.25em;color: #696969;}#sk-container-id-2 label.sk-toggleable__label-arrow:hover:before {color: black;}#sk-container-id-2 div.sk-estimator:hover label.sk-toggleable__label-arrow:before {color: black;}#sk-container-id-2 div.sk-toggleable__content {max-height: 0;max-width: 0;overflow: hidden;text-align: left;background-color: #f0f8ff;}#sk-container-id-2 div.sk-toggleable__content pre {margin: 0.2em;color: black;border-radius: 0.25em;background-color: #f0f8ff;}#sk-container-id-2 input.sk-toggleable__control:checked~div.sk-toggleable__content {max-height: 200px;max-width: 100%;overflow: auto;}#sk-container-id-2 input.sk-toggleable__control:checked~label.sk-toggleable__label-arrow:before {content: \"▾\";}#sk-container-id-2 div.sk-estimator input.sk-toggleable__control:checked~label.sk-toggleable__label {background-color: #d4ebff;}#sk-container-id-2 div.sk-label input.sk-toggleable__control:checked~label.sk-toggleable__label {background-color: #d4ebff;}#sk-container-id-2 input.sk-hidden--visually {border: 0;clip: rect(1px 1px 1px 1px);clip: rect(1px, 1px, 1px, 1px);height: 1px;margin: -1px;overflow: hidden;padding: 0;position: absolute;width: 1px;}#sk-container-id-2 div.sk-estimator {font-family: monospace;background-color: #f0f8ff;border: 1px dotted black;border-radius: 0.25em;box-sizing: border-box;margin-bottom: 0.5em;}#sk-container-id-2 div.sk-estimator:hover {background-color: #d4ebff;}#sk-container-id-2 div.sk-parallel-item::after {content: \"\";width: 100%;border-bottom: 1px solid gray;flex-grow: 1;}#sk-container-id-2 div.sk-label:hover label.sk-toggleable__label {background-color: #d4ebff;}#sk-container-id-2 div.sk-serial::before {content: \"\";position: absolute;border-left: 1px solid gray;box-sizing: border-box;top: 0;bottom: 0;left: 50%;z-index: 0;}#sk-container-id-2 div.sk-serial {display: flex;flex-direction: column;align-items: center;background-color: white;padding-right: 0.2em;padding-left: 0.2em;position: relative;}#sk-container-id-2 div.sk-item {position: relative;z-index: 1;}#sk-container-id-2 div.sk-parallel {display: flex;align-items: stretch;justify-content: center;background-color: white;position: relative;}#sk-container-id-2 div.sk-item::before, #sk-container-id-2 div.sk-parallel-item::before {content: \"\";position: absolute;border-left: 1px solid gray;box-sizing: border-box;top: 0;bottom: 0;left: 50%;z-index: -1;}#sk-container-id-2 div.sk-parallel-item {display: flex;flex-direction: column;z-index: 1;position: relative;background-color: white;}#sk-container-id-2 div.sk-parallel-item:first-child::after {align-self: flex-end;width: 50%;}#sk-container-id-2 div.sk-parallel-item:last-child::after {align-self: flex-start;width: 50%;}#sk-container-id-2 div.sk-parallel-item:only-child::after {width: 0;}#sk-container-id-2 div.sk-dashed-wrapped {border: 1px dashed gray;margin: 0 0.4em 0.5em 0.4em;box-sizing: border-box;padding-bottom: 0.4em;background-color: white;}#sk-container-id-2 div.sk-label label {font-family: monospace;font-weight: bold;display: inline-block;line-height: 1.2em;}#sk-container-id-2 div.sk-label-container {text-align: center;}#sk-container-id-2 div.sk-container {/* jupyter's `normalize.less` sets `[hidden] { display: none; }` but bootstrap.min.css set `[hidden] { display: none !important; }` so we also need the `!important` here to be able to override the default hidden behavior on the sphinx rendered scikit-learn.org. See: https://github.com/scikit-learn/scikit-learn/issues/21755 */display: inline-block !important;position: relative;}#sk-container-id-2 div.sk-text-repr-fallback {display: none;}</style><div id=\"sk-container-id-2\" class=\"sk-top-container\"><div class=\"sk-text-repr-fallback\"><pre>RandomForestClassifier(max_features=3, min_samples_leaf=200, n_estimators=5000)</pre><b>In a Jupyter environment, please rerun this cell to show the HTML representation or trust the notebook. <br />On GitHub, the HTML representation is unable to render, please try loading this page with nbviewer.org.</b></div><div class=\"sk-container\" hidden><div class=\"sk-item\"><div class=\"sk-estimator sk-toggleable\"><input class=\"sk-toggleable__control sk-hidden--visually\" id=\"sk-estimator-id-2\" type=\"checkbox\" checked><label for=\"sk-estimator-id-2\" class=\"sk-toggleable__label sk-toggleable__label-arrow\">RandomForestClassifier</label><div class=\"sk-toggleable__content\"><pre>RandomForestClassifier(max_features=3, min_samples_leaf=200, n_estimators=5000)</pre></div></div></div></div></div>"
      ],
      "text/plain": [
       "RandomForestClassifier(max_features=3, min_samples_leaf=200, n_estimators=5000)"
      ]
     },
     "execution_count": 9,
     "metadata": {},
     "output_type": "execute_result"
    }
   ],
   "source": [
    "ups_rf10 = RandomForestClassifier(n_estimators = 1000, min_samples_leaf = 5)\n",
    "ups_rf10.fit(X_data_ups, y_data_ups)\n",
    "\n",
    "ups_rf20 = RandomForestClassifier(n_estimators = 1000, min_samples_leaf = 10)\n",
    "ups_rf20.fit(X_data_ups, y_data_ups)\n",
    "\n",
    "ups_rf30 = RandomForestClassifier(n_estimators = 1000, min_samples_leaf = 20)\n",
    "ups_rf30.fit(X_data_ups, y_data_ups)\n",
    "\n",
    "ups_rf40 = RandomForestClassifier(n_estimators = 1000, min_samples_leaf = 40)\n",
    "ups_rf40.fit(X_data_ups, y_data_ups)\n",
    "\n",
    "ups_rf50 = RandomForestClassifier(n_estimators = 5000, min_samples_leaf = 40)\n",
    "ups_rf50.fit(X_data_ups, y_data_ups)\n",
    "\n",
    "ups_rf60 = RandomForestClassifier(n_estimators = 5000, min_samples_leaf = 100)\n",
    "ups_rf60.fit(X_data_ups, y_data_ups)\n",
    "\n",
    "ups_rf70 = RandomForestClassifier(n_estimators = 5000, min_samples_leaf = 200)\n",
    "ups_rf70.fit(X_data_ups, y_data_ups)\n",
    "\n",
    "ups_rf80 = RandomForestClassifier(n_estimators = 5000, min_samples_leaf = 500)\n",
    "ups_rf80.fit(X_data_ups, y_data_ups)\n",
    "\n",
    "ups_rf90 = RandomForestClassifier(n_estimators = 5000, min_samples_leaf = 200, max_features = 4)\n",
    "ups_rf90.fit(X_data_ups, y_data_ups)\n",
    "\n",
    "ups_rf100 = RandomForestClassifier(n_estimators = 5000, min_samples_leaf = 200, max_features = 5)\n",
    "ups_rf100.fit(X_data_ups, y_data_ups)\n",
    "\n",
    "ups_rf110 = RandomForestClassifier(n_estimators = 5000, min_samples_leaf = 200, max_features = 6)\n",
    "ups_rf110.fit(X_data_ups, y_data_ups)\n",
    "\n",
    "ups_rf120 = RandomForestClassifier(n_estimators = 5000, min_samples_leaf = 200, max_features = 7)\n",
    "ups_rf120.fit(X_data_ups, y_data_ups)\n",
    "\n",
    "ups_rf130 = RandomForestClassifier(n_estimators = 5000, min_samples_leaf = 200, max_features = 8)\n",
    "ups_rf130.fit(X_data_ups, y_data_ups)\n",
    "\n",
    "ups_rf140 = RandomForestClassifier(n_estimators = 5000, min_samples_leaf = 200, max_features = 3) # note max_features = 3 here \n",
    "ups_rf140.fit(X_data_ups, y_data_ups)\n"
   ]
  },
  {
   "cell_type": "code",
   "execution_count": 10,
   "id": "14246760-91c2-45df-8cbb-04fe8af94636",
   "metadata": {},
   "outputs": [
    {
     "data": {
      "text/plain": [
       "['../models/rf140_ups.joblib']"
      ]
     },
     "execution_count": 10,
     "metadata": {},
     "output_type": "execute_result"
    }
   ],
   "source": [
    "dump(ups_rf10, '../models/rf10_ups.joblib')\n",
    "dump(ups_rf20, '../models/rf20_ups.joblib')\n",
    "dump(ups_rf30, '../models/rf30_ups.joblib')\n",
    "dump(ups_rf40, '../models/rf40_ups.joblib')\n",
    "dump(ups_rf50, '../models/rf50_ups.joblib')\n",
    "dump(ups_rf60, '../models/rf60_ups.joblib')\n",
    "dump(ups_rf70, '../models/rf70_ups.joblib')\n",
    "dump(ups_rf80, '../models/rf80_ups.joblib')\n",
    "dump(ups_rf90, '../models/rf90_ups.joblib')\n",
    "dump(ups_rf100, '../models/rf100_ups.joblib')\n",
    "dump(ups_rf110, '../models/rf110_ups.joblib')\n",
    "dump(ups_rf120, '../models/rf120_ups.joblib')\n",
    "dump(ups_rf130, '../models/rf130_ups.joblib')\n",
    "dump(ups_rf140, '../models/rf140_ups.joblib')"
   ]
  },
  {
   "cell_type": "markdown",
   "id": "6dc52987-4e6b-449b-8e3b-50d71e56cf57",
   "metadata": {},
   "source": [
    "### Calculate AUROC for all models"
   ]
  },
  {
   "cell_type": "code",
   "execution_count": 11,
   "id": "6372c9cd-c09d-49b6-8183-60349e6c2a3b",
   "metadata": {},
   "outputs": [],
   "source": [
    "from sklearn.metrics import roc_auc_score\n",
    "from sklearn.metrics import accuracy_score"
   ]
  },
  {
   "cell_type": "code",
   "execution_count": 12,
   "id": "93a2a07f-2986-4615-b527-48dd18eb7f9d",
   "metadata": {},
   "outputs": [
    {
     "data": {
      "text/plain": [
       "Counter({0: 257, 1: 1343})"
      ]
     },
     "execution_count": 12,
     "metadata": {},
     "output_type": "execute_result"
    }
   ],
   "source": [
    "target = np.array(y_test)\n",
    "Counter(target)"
   ]
  },
  {
   "cell_type": "code",
   "execution_count": 13,
   "id": "3cc9001c-b1ba-48c6-ab42-6d9f95b572a9",
   "metadata": {},
   "outputs": [
    {
     "name": "stdout",
     "output_type": "stream",
     "text": [
      "ups_rf10: 0.6852826733806363\n",
      "ups_rf20: 0.6886493158067049\n",
      "ups_rf30: 0.692798224545199\n",
      "ups_rf40: 0.6978365990537475\n",
      "ups_rf50: 0.6974309794843416\n",
      "ups_rf60: 0.7024722512755286\n",
      "ups_rf70: 0.7048798931482163\n",
      "ups_rf80: 0.7027011366039791\n",
      "ups_rf90: 0.7048943795614093\n",
      "ups_rf100: 0.7049552224968203\n",
      "ups_rf110: 0.7043294094468798\n",
      "ups_rf120: 0.703796309441375\n",
      "ups_rf130: 0.7033356415018355\n",
      "ups_rf140: 0.7037296719406867\n"
     ]
    }
   ],
   "source": [
    "df_pred_ups_10 = pd.DataFrame(ups_rf10.predict_proba(X_test))\n",
    "df_pred_ups_20 = pd.DataFrame(ups_rf20.predict_proba(X_test))\n",
    "df_pred_ups_30 = pd.DataFrame(ups_rf30.predict_proba(X_test))\n",
    "df_pred_ups_40 = pd.DataFrame(ups_rf40.predict_proba(X_test))\n",
    "df_pred_ups_50 = pd.DataFrame(ups_rf50.predict_proba(X_test))\n",
    "df_pred_ups_60 = pd.DataFrame(ups_rf60.predict_proba(X_test))\n",
    "df_pred_ups_70 = pd.DataFrame(ups_rf70.predict_proba(X_test))\n",
    "df_pred_ups_80 = pd.DataFrame(ups_rf80.predict_proba(X_test))\n",
    "df_pred_ups_90 = pd.DataFrame(ups_rf90.predict_proba(X_test))\n",
    "df_pred_ups_100 = pd.DataFrame(ups_rf100.predict_proba(X_test))\n",
    "df_pred_ups_110 = pd.DataFrame(ups_rf110.predict_proba(X_test))\n",
    "df_pred_ups_120 = pd.DataFrame(ups_rf120.predict_proba(X_test))\n",
    "df_pred_ups_130 = pd.DataFrame(ups_rf130.predict_proba(X_test))\n",
    "df_pred_ups_140 = pd.DataFrame(ups_rf140.predict_proba(X_test))\n",
    "\n",
    "pred_ups_probs10 = np.array(df_pred_ups_10[1])\n",
    "pred_ups_probs20 = np.array(df_pred_ups_20[1])\n",
    "pred_ups_probs30 = np.array(df_pred_ups_30[1])\n",
    "pred_ups_probs40 = np.array(df_pred_ups_40[1])\n",
    "pred_ups_probs50 = np.array(df_pred_ups_50[1])\n",
    "pred_ups_probs60 = np.array(df_pred_ups_60[1])\n",
    "pred_ups_probs70 = np.array(df_pred_ups_70[1])\n",
    "pred_ups_probs80 = np.array(df_pred_ups_80[1])\n",
    "pred_ups_probs90 = np.array(df_pred_ups_90[1])\n",
    "pred_ups_probs100 = np.array(df_pred_ups_100[1])\n",
    "pred_ups_probs110 = np.array(df_pred_ups_110[1])\n",
    "pred_ups_probs120 = np.array(df_pred_ups_120[1])\n",
    "pred_ups_probs130 = np.array(df_pred_ups_130[1])\n",
    "pred_ups_probs140 = np.array(df_pred_ups_140[1])\n",
    "\n",
    "print('ups_rf10:', roc_auc_score(target, pred_ups_probs10))\n",
    "print('ups_rf20:', roc_auc_score(target, pred_ups_probs20))\n",
    "print('ups_rf30:', roc_auc_score(target, pred_ups_probs30))\n",
    "print('ups_rf40:', roc_auc_score(target, pred_ups_probs40))\n",
    "print('ups_rf50:', roc_auc_score(target, pred_ups_probs50))\n",
    "print('ups_rf60:', roc_auc_score(target, pred_ups_probs60))\n",
    "print('ups_rf70:', roc_auc_score(target, pred_ups_probs70))\n",
    "print('ups_rf80:', roc_auc_score(target, pred_ups_probs80))\n",
    "print('ups_rf90:', roc_auc_score(target, pred_ups_probs90)) \n",
    "print('ups_rf100:', roc_auc_score(target, pred_ups_probs100)) # top performer with upsampled data, still ery close to SMOTE, but a small improvemet\n",
    "print('ups_rf110:', roc_auc_score(target, pred_ups_probs110))\n",
    "print('ups_rf120:', roc_auc_score(target, pred_ups_probs120))\n",
    "print('ups_rf130:', roc_auc_score(target, pred_ups_probs130))\n",
    "print('ups_rf140:', roc_auc_score(target, pred_ups_probs140))\n"
   ]
  },
  {
   "cell_type": "markdown",
   "id": "8f30b5ea-8a12-4f5a-bdc5-8f523ca6efa6",
   "metadata": {},
   "source": [
    "### Make preditions on unlabelled kaggle data"
   ]
  },
  {
   "cell_type": "code",
   "execution_count": 14,
   "id": "bd40d2d1-6793-489f-a2cd-8610d29e8a84",
   "metadata": {},
   "outputs": [],
   "source": [
    "df_te = pd.read_csv('../data/raw/2022_test.csv')"
   ]
  },
  {
   "cell_type": "code",
   "execution_count": 15,
   "id": "74ea3f43-71f0-4a26-90a6-f926c3980ced",
   "metadata": {},
   "outputs": [],
   "source": [
    "df_te_cleaned = df_te.copy()"
   ]
  },
  {
   "cell_type": "code",
   "execution_count": 16,
   "id": "c57685b6-e836-4964-88ea-0623a1c12d71",
   "metadata": {},
   "outputs": [],
   "source": [
    "df_te_cleaned.drop('Id', axis=1, inplace=True)"
   ]
  },
  {
   "cell_type": "code",
   "execution_count": 17,
   "id": "9140264b-a603-43d4-8d73-1e21ff848292",
   "metadata": {},
   "outputs": [
    {
     "name": "stdout",
     "output_type": "stream",
     "text": [
      "['GP', 'MIN', 'PTS', 'FGM', 'FGA', 'FG%', '3P Made', '3PA', '3P%', 'FTM', 'FTA', 'FT%', 'OREB', 'DREB', 'REB', 'AST', 'STL', 'BLK', 'TOV']\n",
      "(3799, 19)\n"
     ]
    }
   ],
   "source": [
    "print(list(df_te_cleaned.columns))\n",
    "print(df_te_cleaned.shape)"
   ]
  },
  {
   "cell_type": "code",
   "execution_count": 18,
   "id": "4ae1bd2b-2a21-43ed-b400-dbbecec47957",
   "metadata": {},
   "outputs": [
    {
     "name": "stderr",
     "output_type": "stream",
     "text": [
      "/opt/conda/lib/python3.8/site-packages/sklearn/base.py:443: UserWarning: X has feature names, but RandomForestClassifier was fitted without feature names\n",
      "  warnings.warn(\n"
     ]
    },
    {
     "data": {
      "text/plain": [
       "Counter({0: 1458, 1: 2341})"
      ]
     },
     "execution_count": 18,
     "metadata": {},
     "output_type": "execute_result"
    }
   ],
   "source": [
    "Counter(ups_rf100.predict(df_te_cleaned))"
   ]
  },
  {
   "cell_type": "code",
   "execution_count": 19,
   "id": "695791de-27f3-42c0-9caf-04a41ed65e96",
   "metadata": {},
   "outputs": [
    {
     "name": "stderr",
     "output_type": "stream",
     "text": [
      "/opt/conda/lib/python3.8/site-packages/sklearn/base.py:443: UserWarning: X has feature names, but RandomForestClassifier was fitted without feature names\n",
      "  warnings.warn(\n"
     ]
    },
    {
     "data": {
      "text/plain": [
       "array([[0.56389165, 0.43610835],\n",
       "       [0.52406616, 0.47593384],\n",
       "       [0.23989001, 0.76010999],\n",
       "       ...,\n",
       "       [0.64897364, 0.35102636],\n",
       "       [0.26165944, 0.73834056],\n",
       "       [0.52751007, 0.47248993]])"
      ]
     },
     "execution_count": 19,
     "metadata": {},
     "output_type": "execute_result"
    }
   ],
   "source": [
    "ups_rf100.predict_proba(df_te_cleaned)"
   ]
  },
  {
   "cell_type": "code",
   "execution_count": 20,
   "id": "58a4b49e-b057-4187-ad18-94093c8a4013",
   "metadata": {},
   "outputs": [
    {
     "name": "stderr",
     "output_type": "stream",
     "text": [
      "/opt/conda/lib/python3.8/site-packages/sklearn/base.py:443: UserWarning: X has feature names, but RandomForestClassifier was fitted without feature names\n",
      "  warnings.warn(\n"
     ]
    }
   ],
   "source": [
    "df_pred_ups_rf100 = pd.DataFrame(ups_rf100.predict_proba(df_te_cleaned))"
   ]
  },
  {
   "cell_type": "code",
   "execution_count": 21,
   "id": "a4e56063-9280-4db9-a357-d48fc218071d",
   "metadata": {},
   "outputs": [],
   "source": [
    "df_pred_ups_rf100[1].to_csv('../data/processed/ups_rf100.csv')"
   ]
  },
  {
   "cell_type": "code",
   "execution_count": null,
   "id": "fadeb4fe-712f-4d43-8c71-d56412a8176b",
   "metadata": {},
   "outputs": [],
   "source": []
  }
 ],
 "metadata": {
  "kernelspec": {
   "display_name": "Python 3 (ipykernel)",
   "language": "python",
   "name": "python3"
  },
  "language_info": {
   "codemirror_mode": {
    "name": "ipython",
    "version": 3
   },
   "file_extension": ".py",
   "mimetype": "text/x-python",
   "name": "python",
   "nbconvert_exporter": "python",
   "pygments_lexer": "ipython3",
   "version": "3.8.13"
  }
 },
 "nbformat": 4,
 "nbformat_minor": 5
}
