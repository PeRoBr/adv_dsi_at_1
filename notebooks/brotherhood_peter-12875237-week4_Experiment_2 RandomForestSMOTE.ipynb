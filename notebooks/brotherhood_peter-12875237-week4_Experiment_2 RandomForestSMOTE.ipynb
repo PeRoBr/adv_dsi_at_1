{
 "cells": [
  {
   "cell_type": "markdown",
   "id": "98f4c86c-5e0f-4d90-a25c-849cfca77a78",
   "metadata": {},
   "source": [
    " note that for this series of experientrs with radom forest the data was not scaled first."
   ]
  },
  {
   "cell_type": "code",
   "execution_count": 2,
   "id": "d7724121-9e11-4393-b7a5-155755d1d59d",
   "metadata": {},
   "outputs": [],
   "source": [
    "import pandas as pd\n",
    "import numpy as np\n",
    "from joblib import dump\n",
    "\n",
    "from sklearn.ensemble import RandomForestClassifier\n",
    "\n",
    "from collections import Counter"
   ]
  },
  {
   "cell_type": "code",
   "execution_count": 3,
   "id": "428d65eb-925a-43ab-8318-046ae967e567",
   "metadata": {},
   "outputs": [],
   "source": [
    "# load processed SMOTE datasets\n",
    "\n",
    "X_SMOTE = np.load('../data/processed/X_SMOTE.npy')\n",
    "y_SMOTE = np.load('../data/processed/y_SMOTE.npy')\n",
    "X_test = np.load('../data/processed/X_test_SMOTE.npy')\n",
    "y_test = np.load('../data/processed/y_test_SMOTE.npy')"
   ]
  },
  {
   "cell_type": "code",
   "execution_count": 42,
   "id": "9b029b9a-d139-4c1c-af82-1dd18fad7f12",
   "metadata": {},
   "outputs": [
    {
     "name": "stdout",
     "output_type": "stream",
     "text": [
      "(10652, 19)\n",
      "(10652,)\n",
      "(1600, 19)\n",
      "(1600,)\n",
      "Counter({1: 5326, 0: 5326})\n",
      "Counter({1: 1343, 0: 257})\n"
     ]
    }
   ],
   "source": [
    "print(X_SMOTE.shape)\n",
    "print(y_SMOTE.shape)\n",
    "print(X_test.shape)\n",
    "print(y_test.shape)\n",
    "\n",
    "print(Counter(y_SMOTE))\n",
    "print(Counter(y_test))"
   ]
  },
  {
   "cell_type": "markdown",
   "id": "d907e8bf-be7a-41b3-b233-5a795d9bdf15",
   "metadata": {},
   "source": [
    "### Manual grid style search of important hyperparameters"
   ]
  },
  {
   "cell_type": "code",
   "execution_count": 29,
   "id": "31de1574-a83c-4051-bc4c-473ec971491f",
   "metadata": {},
   "outputs": [
    {
     "data": {
      "text/html": [
       "<style>#sk-container-id-7 {color: black;background-color: white;}#sk-container-id-7 pre{padding: 0;}#sk-container-id-7 div.sk-toggleable {background-color: white;}#sk-container-id-7 label.sk-toggleable__label {cursor: pointer;display: block;width: 100%;margin-bottom: 0;padding: 0.3em;box-sizing: border-box;text-align: center;}#sk-container-id-7 label.sk-toggleable__label-arrow:before {content: \"▸\";float: left;margin-right: 0.25em;color: #696969;}#sk-container-id-7 label.sk-toggleable__label-arrow:hover:before {color: black;}#sk-container-id-7 div.sk-estimator:hover label.sk-toggleable__label-arrow:before {color: black;}#sk-container-id-7 div.sk-toggleable__content {max-height: 0;max-width: 0;overflow: hidden;text-align: left;background-color: #f0f8ff;}#sk-container-id-7 div.sk-toggleable__content pre {margin: 0.2em;color: black;border-radius: 0.25em;background-color: #f0f8ff;}#sk-container-id-7 input.sk-toggleable__control:checked~div.sk-toggleable__content {max-height: 200px;max-width: 100%;overflow: auto;}#sk-container-id-7 input.sk-toggleable__control:checked~label.sk-toggleable__label-arrow:before {content: \"▾\";}#sk-container-id-7 div.sk-estimator input.sk-toggleable__control:checked~label.sk-toggleable__label {background-color: #d4ebff;}#sk-container-id-7 div.sk-label input.sk-toggleable__control:checked~label.sk-toggleable__label {background-color: #d4ebff;}#sk-container-id-7 input.sk-hidden--visually {border: 0;clip: rect(1px 1px 1px 1px);clip: rect(1px, 1px, 1px, 1px);height: 1px;margin: -1px;overflow: hidden;padding: 0;position: absolute;width: 1px;}#sk-container-id-7 div.sk-estimator {font-family: monospace;background-color: #f0f8ff;border: 1px dotted black;border-radius: 0.25em;box-sizing: border-box;margin-bottom: 0.5em;}#sk-container-id-7 div.sk-estimator:hover {background-color: #d4ebff;}#sk-container-id-7 div.sk-parallel-item::after {content: \"\";width: 100%;border-bottom: 1px solid gray;flex-grow: 1;}#sk-container-id-7 div.sk-label:hover label.sk-toggleable__label {background-color: #d4ebff;}#sk-container-id-7 div.sk-serial::before {content: \"\";position: absolute;border-left: 1px solid gray;box-sizing: border-box;top: 0;bottom: 0;left: 50%;z-index: 0;}#sk-container-id-7 div.sk-serial {display: flex;flex-direction: column;align-items: center;background-color: white;padding-right: 0.2em;padding-left: 0.2em;position: relative;}#sk-container-id-7 div.sk-item {position: relative;z-index: 1;}#sk-container-id-7 div.sk-parallel {display: flex;align-items: stretch;justify-content: center;background-color: white;position: relative;}#sk-container-id-7 div.sk-item::before, #sk-container-id-7 div.sk-parallel-item::before {content: \"\";position: absolute;border-left: 1px solid gray;box-sizing: border-box;top: 0;bottom: 0;left: 50%;z-index: -1;}#sk-container-id-7 div.sk-parallel-item {display: flex;flex-direction: column;z-index: 1;position: relative;background-color: white;}#sk-container-id-7 div.sk-parallel-item:first-child::after {align-self: flex-end;width: 50%;}#sk-container-id-7 div.sk-parallel-item:last-child::after {align-self: flex-start;width: 50%;}#sk-container-id-7 div.sk-parallel-item:only-child::after {width: 0;}#sk-container-id-7 div.sk-dashed-wrapped {border: 1px dashed gray;margin: 0 0.4em 0.5em 0.4em;box-sizing: border-box;padding-bottom: 0.4em;background-color: white;}#sk-container-id-7 div.sk-label label {font-family: monospace;font-weight: bold;display: inline-block;line-height: 1.2em;}#sk-container-id-7 div.sk-label-container {text-align: center;}#sk-container-id-7 div.sk-container {/* jupyter's `normalize.less` sets `[hidden] { display: none; }` but bootstrap.min.css set `[hidden] { display: none !important; }` so we also need the `!important` here to be able to override the default hidden behavior on the sphinx rendered scikit-learn.org. See: https://github.com/scikit-learn/scikit-learn/issues/21755 */display: inline-block !important;position: relative;}#sk-container-id-7 div.sk-text-repr-fallback {display: none;}</style><div id=\"sk-container-id-7\" class=\"sk-top-container\"><div class=\"sk-text-repr-fallback\"><pre>RandomForestClassifier(max_features=3, min_samples_leaf=200, n_estimators=5000)</pre><b>In a Jupyter environment, please rerun this cell to show the HTML representation or trust the notebook. <br />On GitHub, the HTML representation is unable to render, please try loading this page with nbviewer.org.</b></div><div class=\"sk-container\" hidden><div class=\"sk-item\"><div class=\"sk-estimator sk-toggleable\"><input class=\"sk-toggleable__control sk-hidden--visually\" id=\"sk-estimator-id-7\" type=\"checkbox\" checked><label for=\"sk-estimator-id-7\" class=\"sk-toggleable__label sk-toggleable__label-arrow\">RandomForestClassifier</label><div class=\"sk-toggleable__content\"><pre>RandomForestClassifier(max_features=3, min_samples_leaf=200, n_estimators=5000)</pre></div></div></div></div></div>"
      ],
      "text/plain": [
       "RandomForestClassifier(max_features=3, min_samples_leaf=200, n_estimators=5000)"
      ]
     },
     "execution_count": 29,
     "metadata": {},
     "output_type": "execute_result"
    }
   ],
   "source": [
    "# rf10 = RandomForestClassifier(n_estimators = 1000, min_samples_leaf = 5)\n",
    "# rf10.fit(X_SMOTE, y_SMOTE)\n",
    "\n",
    "# rf20 = RandomForestClassifier(n_estimators = 1000, min_samples_leaf = 10)\n",
    "# rf20.fit(X_SMOTE, y_SMOTE)\n",
    "\n",
    "# rf30 = RandomForestClassifier(n_estimators = 1000, min_samples_leaf = 20)\n",
    "# rf30.fit(X_SMOTE, y_SMOTE)\n",
    "\n",
    "# rf40 = RandomForestClassifier(n_estimators = 1000, min_samples_leaf = 40)\n",
    "# rf40.fit(X_SMOTE, y_SMOTE)\n",
    "\n",
    "# rf50 = RandomForestClassifier(n_estimators = 5000, min_samples_leaf = 40)\n",
    "# rf50.fit(X_SMOTE, y_SMOTE)\n",
    "\n",
    "# rf60 = RandomForestClassifier(n_estimators = 5000, min_samples_leaf = 100)\n",
    "# rf60.fit(X_SMOTE, y_SMOTE)\n",
    "\n",
    "# rf70 = RandomForestClassifier(n_estimators = 5000, min_samples_leaf = 200)\n",
    "# rf70.fit(X_SMOTE, y_SMOTE)\n",
    "\n",
    "# rf80 = RandomForestClassifier(n_estimators = 5000, min_samples_leaf = 500)\n",
    "# rf80.fit(X_SMOTE, y_SMOTE)\n",
    "\n",
    "# rf90 = RandomForestClassifier(n_estimators = 5000, min_samples_leaf = 200, max_features = 4)\n",
    "# rf90.fit(X_SMOTE, y_SMOTE)\n",
    "\n",
    "# rf100 = RandomForestClassifier(n_estimators = 5000, min_samples_leaf = 200, max_features = 5)\n",
    "# rf100.fit(X_SMOTE, y_SMOTE)\n",
    "\n",
    "# rf110 = RandomForestClassifier(n_estimators = 5000, min_samples_leaf = 200, max_features = 6)\n",
    "# rf110.fit(X_SMOTE, y_SMOTE)\n",
    "\n",
    "# rf120 = RandomForestClassifier(n_estimators = 5000, min_samples_leaf = 200, max_features = 7)\n",
    "# rf120.fit(X_SMOTE, y_SMOTE)\n",
    "\n",
    "# rf130 = RandomForestClassifier(n_estimators = 5000, min_samples_leaf = 200, max_features = 8)\n",
    "# rf130.fit(X_SMOTE, y_SMOTE)\n",
    "\n",
    "rf140 = RandomForestClassifier(n_estimators = 5000, min_samples_leaf = 200, max_features = 3)\n",
    "rf140.fit(X_SMOTE, y_SMOTE)\n"
   ]
  },
  {
   "cell_type": "code",
   "execution_count": 30,
   "id": "14246760-91c2-45df-8cbb-04fe8af94636",
   "metadata": {},
   "outputs": [
    {
     "data": {
      "text/plain": [
       "['../models/rf140_smote.joblib']"
      ]
     },
     "execution_count": 30,
     "metadata": {},
     "output_type": "execute_result"
    }
   ],
   "source": [
    "# dump(rf10, '../models/rf10_smote.joblib')\n",
    "# dump(rf20, '../models/rf20_smote.joblib')\n",
    "# dump(rf30, '../models/rf30_smote.joblib')\n",
    "# dump(rf40, '../models/rf40_smote.joblib')\n",
    "# dump(rf50, '../models/rf50_smote.joblib')\n",
    "# dump(rf60, '../models/rf60_smote.joblib')\n",
    "# dump(rf70, '../models/rf70_smote.joblib')\n",
    "# dump(rf80, '../models/rf80_smote.joblib')\n",
    "# dump(rf90, '../models/rf90_smote.joblib')\n",
    "# dump(rf100, '../models/rf100_smote.joblib')\n",
    "# dump(rf110, '../models/rf110_smote.joblib')\n",
    "# dump(rf120, '../models/rf120_smote.joblib')\n",
    "# dump(rf130, '../models/rf130_smote.joblib')\n",
    "dump(rf140, '../models/rf140_smote.joblib')"
   ]
  },
  {
   "cell_type": "markdown",
   "id": "6dc52987-4e6b-449b-8e3b-50d71e56cf57",
   "metadata": {},
   "source": [
    "### Calculate AUROC for all models"
   ]
  },
  {
   "cell_type": "code",
   "execution_count": 7,
   "id": "6372c9cd-c09d-49b6-8183-60349e6c2a3b",
   "metadata": {},
   "outputs": [],
   "source": [
    "from sklearn.metrics import roc_auc_score\n",
    "from sklearn.metrics import accuracy_score"
   ]
  },
  {
   "cell_type": "code",
   "execution_count": 8,
   "id": "93a2a07f-2986-4615-b527-48dd18eb7f9d",
   "metadata": {},
   "outputs": [
    {
     "data": {
      "text/plain": [
       "Counter({0: 257, 1: 1343})"
      ]
     },
     "execution_count": 8,
     "metadata": {},
     "output_type": "execute_result"
    }
   ],
   "source": [
    "target = np.array(y_test)\n",
    "Counter(target)"
   ]
  },
  {
   "cell_type": "code",
   "execution_count": 31,
   "id": "3cc9001c-b1ba-48c6-ab42-6d9f95b572a9",
   "metadata": {},
   "outputs": [
    {
     "name": "stdout",
     "output_type": "stream",
     "text": [
      "rf10: 0.6836920652120375\n",
      "rf20: 0.6866791636124479\n",
      "rf30: 0.6942468658645057\n",
      "rf40: 0.6975005142676683\n",
      "rf50: 0.6983465207981434\n",
      "rf60: 0.7019999942054347\n",
      "rf70: 0.7021361664894497\n",
      "rf80: 0.7002877001660144\n",
      "rf90: 0.70226074964291\n",
      "rf100: 0.7019623295311328\n",
      "rf110: 0.7019594322484941\n",
      "rf120: 0.7016783958325487\n",
      "rf130: 0.7013973594166032\n",
      "rf140: 0.7019101784436377\n"
     ]
    }
   ],
   "source": [
    "df_pred_10 = pd.DataFrame(rf10.predict_proba(X_test))\n",
    "df_pred_20 = pd.DataFrame(rf20.predict_proba(X_test))\n",
    "df_pred_30 = pd.DataFrame(rf30.predict_proba(X_test))\n",
    "df_pred_40 = pd.DataFrame(rf40.predict_proba(X_test))\n",
    "df_pred_50 = pd.DataFrame(rf50.predict_proba(X_test))\n",
    "df_pred_60 = pd.DataFrame(rf60.predict_proba(X_test))\n",
    "df_pred_70 = pd.DataFrame(rf70.predict_proba(X_test))\n",
    "df_pred_80 = pd.DataFrame(rf80.predict_proba(X_test))\n",
    "df_pred_90 = pd.DataFrame(rf90.predict_proba(X_test))\n",
    "df_pred_100 = pd.DataFrame(rf100.predict_proba(X_test))\n",
    "df_pred_110 = pd.DataFrame(rf110.predict_proba(X_test))\n",
    "df_pred_120 = pd.DataFrame(rf120.predict_proba(X_test))\n",
    "df_pred_130 = pd.DataFrame(rf130.predict_proba(X_test))\n",
    "df_pred_140 = pd.DataFrame(rf140.predict_proba(X_test))\n",
    "\n",
    "pred_probs10 = np.array(df_pred_10[1])\n",
    "pred_probs20 = np.array(df_pred_20[1])\n",
    "pred_probs30 = np.array(df_pred_30[1])\n",
    "pred_probs40 = np.array(df_pred_40[1])\n",
    "pred_probs50 = np.array(df_pred_50[1])\n",
    "pred_probs60 = np.array(df_pred_60[1])\n",
    "pred_probs70 = np.array(df_pred_70[1])\n",
    "pred_probs80 = np.array(df_pred_80[1])\n",
    "pred_probs90 = np.array(df_pred_90[1])\n",
    "pred_probs100 = np.array(df_pred_100[1])\n",
    "pred_probs110 = np.array(df_pred_110[1])\n",
    "pred_probs120 = np.array(df_pred_120[1])\n",
    "pred_probs130 = np.array(df_pred_130[1])\n",
    "pred_probs140 = np.array(df_pred_140[1])\n",
    "\n",
    "print('rf10:', roc_auc_score(target, pred_probs10))\n",
    "print('rf20:', roc_auc_score(target, pred_probs20))\n",
    "print('rf30:', roc_auc_score(target, pred_probs30))\n",
    "print('rf40:', roc_auc_score(target, pred_probs40))\n",
    "print('rf50:', roc_auc_score(target, pred_probs50))\n",
    "print('rf60:', roc_auc_score(target, pred_probs60))\n",
    "print('rf70:', roc_auc_score(target, pred_probs70))\n",
    "print('rf80:', roc_auc_score(target, pred_probs80))\n",
    "print('rf90:', roc_auc_score(target, pred_probs90)) # best performer\n",
    "print('rf100:', roc_auc_score(target, pred_probs100))\n",
    "print('rf110:', roc_auc_score(target, pred_probs110))\n",
    "print('rf120:', roc_auc_score(target, pred_probs120))\n",
    "print('rf130:', roc_auc_score(target, pred_probs130))\n",
    "print('rf140:', roc_auc_score(target, pred_probs140))\n"
   ]
  },
  {
   "cell_type": "markdown",
   "id": "8f30b5ea-8a12-4f5a-bdc5-8f523ca6efa6",
   "metadata": {},
   "source": [
    "### Make preditions on unlabelled kaggle data"
   ]
  },
  {
   "cell_type": "code",
   "execution_count": 32,
   "id": "bd40d2d1-6793-489f-a2cd-8610d29e8a84",
   "metadata": {},
   "outputs": [],
   "source": [
    "df_te = pd.read_csv('../data/raw/2022_test.csv')"
   ]
  },
  {
   "cell_type": "code",
   "execution_count": 33,
   "id": "74ea3f43-71f0-4a26-90a6-f926c3980ced",
   "metadata": {},
   "outputs": [],
   "source": [
    "df_te_cleaned = df_te.copy()"
   ]
  },
  {
   "cell_type": "code",
   "execution_count": 34,
   "id": "c57685b6-e836-4964-88ea-0623a1c12d71",
   "metadata": {},
   "outputs": [],
   "source": [
    "df_te_cleaned.drop('Id', axis=1, inplace=True)"
   ]
  },
  {
   "cell_type": "code",
   "execution_count": 36,
   "id": "9140264b-a603-43d4-8d73-1e21ff848292",
   "metadata": {},
   "outputs": [
    {
     "name": "stdout",
     "output_type": "stream",
     "text": [
      "['GP', 'MIN', 'PTS', 'FGM', 'FGA', 'FG%', '3P Made', '3PA', '3P%', 'FTM', 'FTA', 'FT%', 'OREB', 'DREB', 'REB', 'AST', 'STL', 'BLK', 'TOV']\n",
      "(3799, 19)\n"
     ]
    }
   ],
   "source": [
    "print(list(df_te_cleaned.columns))\n",
    "print(df_te_cleaned.shape)"
   ]
  },
  {
   "cell_type": "code",
   "execution_count": 37,
   "id": "4ae1bd2b-2a21-43ed-b400-dbbecec47957",
   "metadata": {},
   "outputs": [
    {
     "name": "stderr",
     "output_type": "stream",
     "text": [
      "/opt/conda/lib/python3.8/site-packages/sklearn/base.py:443: UserWarning: X has feature names, but RandomForestClassifier was fitted without feature names\n",
      "  warnings.warn(\n"
     ]
    },
    {
     "data": {
      "text/plain": [
       "Counter({0: 1371, 1: 2428})"
      ]
     },
     "execution_count": 37,
     "metadata": {},
     "output_type": "execute_result"
    }
   ],
   "source": [
    "Counter(rf90.predict(df_te_cleaned))"
   ]
  },
  {
   "cell_type": "code",
   "execution_count": 38,
   "id": "695791de-27f3-42c0-9caf-04a41ed65e96",
   "metadata": {},
   "outputs": [
    {
     "name": "stderr",
     "output_type": "stream",
     "text": [
      "/opt/conda/lib/python3.8/site-packages/sklearn/base.py:443: UserWarning: X has feature names, but RandomForestClassifier was fitted without feature names\n",
      "  warnings.warn(\n"
     ]
    },
    {
     "data": {
      "text/plain": [
       "array([[0.5395897 , 0.4604103 ],\n",
       "       [0.5255803 , 0.4744197 ],\n",
       "       [0.22810408, 0.77189592],\n",
       "       ...,\n",
       "       [0.63809221, 0.36190779],\n",
       "       [0.20930809, 0.79069191],\n",
       "       [0.53605597, 0.46394403]])"
      ]
     },
     "execution_count": 38,
     "metadata": {},
     "output_type": "execute_result"
    }
   ],
   "source": [
    "rf90.predict_proba(df_te_cleaned)"
   ]
  },
  {
   "cell_type": "code",
   "execution_count": 39,
   "id": "58a4b49e-b057-4187-ad18-94093c8a4013",
   "metadata": {},
   "outputs": [
    {
     "name": "stderr",
     "output_type": "stream",
     "text": [
      "/opt/conda/lib/python3.8/site-packages/sklearn/base.py:443: UserWarning: X has feature names, but RandomForestClassifier was fitted without feature names\n",
      "  warnings.warn(\n"
     ]
    }
   ],
   "source": [
    "df_pred_rf90 = pd.DataFrame(rf90.predict_proba(df_te_cleaned))"
   ]
  },
  {
   "cell_type": "code",
   "execution_count": 40,
   "id": "a4e56063-9280-4db9-a357-d48fc218071d",
   "metadata": {},
   "outputs": [],
   "source": [
    "df_pred_rf90[1].to_csv('../data/processed/rf90_smote.csv')"
   ]
  },
  {
   "cell_type": "markdown",
   "id": "55ec85b2-a18a-4554-a949-1ac57e3593e5",
   "metadata": {},
   "source": [
    "## auroc\n"
   ]
  },
  {
   "cell_type": "code",
   "execution_count": 69,
   "id": "0ea68587-aff3-4697-941c-09b0e04c3138",
   "metadata": {},
   "outputs": [],
   "source": []
  },
  {
   "cell_type": "code",
   "execution_count": 76,
   "id": "fe1c5388-f364-4dff-9577-1df34e176522",
   "metadata": {},
   "outputs": [
    {
     "data": {
      "text/plain": [
       "Counter({0: 257, 1: 1343})"
      ]
     },
     "execution_count": 76,
     "metadata": {},
     "output_type": "execute_result"
    }
   ],
   "source": [
    "target = np.array(y_test)\n",
    "Counter(target)"
   ]
  },
  {
   "cell_type": "code",
   "execution_count": 100,
   "id": "d3abc6c9-08b7-4809-90c6-754fd2270357",
   "metadata": {},
   "outputs": [],
   "source": [
    "df_pred_1 = pd.DataFrame(rf4.predict_proba(X_test))\n",
    "df_pred_2 = pd.DataFrame(rf4.predict(X_test))"
   ]
  },
  {
   "cell_type": "code",
   "execution_count": 101,
   "id": "f6d899c8-9546-4464-b29c-0dd94a261141",
   "metadata": {},
   "outputs": [],
   "source": [
    "pred_probs = np.array(df_pred_1[1])\n",
    "pred_actual = np.array(df_pred_2)"
   ]
  },
  {
   "cell_type": "code",
   "execution_count": 102,
   "id": "c194c7cf-4465-4b57-8b0a-da51b6b80e5f",
   "metadata": {},
   "outputs": [
    {
     "data": {
      "text/plain": [
       "0.7872467412813522"
      ]
     },
     "execution_count": 102,
     "metadata": {},
     "output_type": "execute_result"
    }
   ],
   "source": [
    "roc_auc_score(target, pred_probs)"
   ]
  },
  {
   "cell_type": "code",
   "execution_count": 103,
   "id": "dc12cc38-f613-4acb-aa6d-33afb5a9f9ce",
   "metadata": {},
   "outputs": [
    {
     "data": {
      "text/plain": [
       "0.69875"
      ]
     },
     "execution_count": 103,
     "metadata": {},
     "output_type": "execute_result"
    }
   ],
   "source": [
    "accuracy_score(target, pred_actual)"
   ]
  },
  {
   "cell_type": "code",
   "execution_count": 67,
   "id": "5394ef1d-d510-4f55-b81e-4578224abafa",
   "metadata": {},
   "outputs": [
    {
     "data": {
      "text/plain": [
       "0.837109375"
      ]
     },
     "execution_count": 67,
     "metadata": {},
     "output_type": "execute_result"
    }
   ],
   "source": [
    "y_mean = y_train.mean()\n",
    "y_mean"
   ]
  },
  {
   "cell_type": "code",
   "execution_count": 72,
   "id": "a9a47100-062b-463f-85b0-b3649711a69e",
   "metadata": {},
   "outputs": [
    {
     "data": {
      "text/plain": [
       "array([[0.83710938],\n",
       "       [0.83710938],\n",
       "       [0.83710938],\n",
       "       ...,\n",
       "       [0.83710938],\n",
       "       [0.83710938],\n",
       "       [0.83710938]])"
      ]
     },
     "execution_count": 72,
     "metadata": {},
     "output_type": "execute_result"
    }
   ],
   "source": [
    "y_base = np.full((len(y_test), 1), y_mean)\n",
    "y_base"
   ]
  },
  {
   "cell_type": "code",
   "execution_count": 69,
   "id": "37dee5ea-7a37-42ac-8c09-06e00bc84320",
   "metadata": {},
   "outputs": [
    {
     "data": {
      "text/plain": [
       "0.5"
      ]
     },
     "execution_count": 69,
     "metadata": {},
     "output_type": "execute_result"
    }
   ],
   "source": [
    "roc_auc_score(target, y_base)"
   ]
  },
  {
   "cell_type": "code",
   "execution_count": 70,
   "id": "a4201434-bc62-4581-91db-88d8b543f56e",
   "metadata": {},
   "outputs": [],
   "source": [
    "y_base_1 = np.full((len(y_test), 1), 1)"
   ]
  },
  {
   "cell_type": "code",
   "execution_count": 71,
   "id": "0073d97e-91f0-493b-88ad-a708f8ece24b",
   "metadata": {},
   "outputs": [
    {
     "data": {
      "text/plain": [
       "0.5"
      ]
     },
     "execution_count": 71,
     "metadata": {},
     "output_type": "execute_result"
    }
   ],
   "source": [
    "roc_auc_score(target, y_base_1)"
   ]
  },
  {
   "cell_type": "code",
   "execution_count": 82,
   "id": "c991d1ca-d20a-4fd4-857c-8b7c85c0460c",
   "metadata": {},
   "outputs": [
    {
     "data": {
      "text/plain": [
       "0.839375"
      ]
     },
     "execution_count": 82,
     "metadata": {},
     "output_type": "execute_result"
    }
   ],
   "source": [
    "accuracy_score(target, y_base_1)"
   ]
  },
  {
   "cell_type": "code",
   "execution_count": 73,
   "id": "1a126d70-74d7-47df-8186-63157d5914dc",
   "metadata": {},
   "outputs": [],
   "source": [
    "y_base_05 = np.full((len(y_test), 1), 0.5)"
   ]
  },
  {
   "cell_type": "code",
   "execution_count": 74,
   "id": "1856b9ad-80ce-44d8-a187-0a1fa39f6d6c",
   "metadata": {},
   "outputs": [
    {
     "data": {
      "text/plain": [
       "0.5"
      ]
     },
     "execution_count": 74,
     "metadata": {},
     "output_type": "execute_result"
    }
   ],
   "source": [
    "roc_auc_score(target, y_base_05)"
   ]
  },
  {
   "cell_type": "code",
   "execution_count": null,
   "id": "c178220e-209e-4bbb-93aa-b57def3f6233",
   "metadata": {},
   "outputs": [],
   "source": []
  },
  {
   "cell_type": "code",
   "execution_count": null,
   "id": "2df449d7-d866-4918-9137-40e1f7d58c26",
   "metadata": {},
   "outputs": [],
   "source": []
  },
  {
   "cell_type": "code",
   "execution_count": null,
   "id": "d7ee23fb-d465-4949-997e-4bbf1a8a915b",
   "metadata": {},
   "outputs": [],
   "source": []
  }
 ],
 "metadata": {
  "kernelspec": {
   "display_name": "Python 3 (ipykernel)",
   "language": "python",
   "name": "python3"
  },
  "language_info": {
   "codemirror_mode": {
    "name": "ipython",
    "version": 3
   },
   "file_extension": ".py",
   "mimetype": "text/x-python",
   "name": "python",
   "nbconvert_exporter": "python",
   "pygments_lexer": "ipython3",
   "version": "3.8.13"
  }
 },
 "nbformat": 4,
 "nbformat_minor": 5
}
