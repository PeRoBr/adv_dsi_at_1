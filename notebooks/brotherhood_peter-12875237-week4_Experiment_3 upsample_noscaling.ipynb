{
 "cells": [
  {
   "cell_type": "markdown",
   "id": "326b2a7d-fed2-4dd1-8cd1-e698b509e246",
   "metadata": {},
   "source": [
    "### Upsample raw data to balance with respect to TARGET_5Yrs variable.\n",
    "\n",
    "Note this data has not bee scaled ad is prepared to be a precise comparison with SMOTE data for random forest experiments.\n",
    "\n",
    "follow this tutorial:\n",
    "https://wellsr.com/python/upsampling-and-downsampling-imbalanced-data-in-python/"
   ]
  },
  {
   "cell_type": "code",
   "execution_count": 33,
   "id": "8a63b65b-db29-4423-9d01-7f0b9b1105cd",
   "metadata": {},
   "outputs": [],
   "source": [
    "import pandas as pd\n",
    "import numpy as np\n",
    "\n",
    "from joblib import dump\n",
    "from joblib import load\n",
    "\n",
    "from sklearn.utils import resample\n",
    "\n",
    "from sklearn.model_selection import train_test_split"
   ]
  },
  {
   "cell_type": "code",
   "execution_count": 2,
   "id": "dd5b618b-9b39-4d72-b5f6-7475b1ed2a69",
   "metadata": {},
   "outputs": [],
   "source": [
    "#Read full, raw, labelled training data\n",
    "\n",
    "df = pd.read_csv('../data/raw/2022_train.csv')"
   ]
  },
  {
   "cell_type": "code",
   "execution_count": 3,
   "id": "e57e9e6f-ce25-482e-b0fa-90d95cd633ce",
   "metadata": {},
   "outputs": [],
   "source": [
    "# Copy full data set to df_cleaned \n",
    "\n",
    "df_cleaned = df.copy()"
   ]
  },
  {
   "cell_type": "code",
   "execution_count": 4,
   "id": "c4b0dc53-9fa7-4ef7-90ea-65717f899447",
   "metadata": {},
   "outputs": [],
   "source": [
    "df_cleaned.drop('Id', axis=1, inplace=True)"
   ]
  },
  {
   "cell_type": "code",
   "execution_count": 5,
   "id": "423ad311-ec0f-487f-83bd-7befff03b053",
   "metadata": {},
   "outputs": [
    {
     "data": {
      "text/plain": [
       "['GP',\n",
       " 'MIN',\n",
       " 'PTS',\n",
       " 'FGM',\n",
       " 'FGA',\n",
       " 'FG%',\n",
       " '3P Made',\n",
       " '3PA',\n",
       " '3P%',\n",
       " 'FTM',\n",
       " 'FTA',\n",
       " 'FT%',\n",
       " 'OREB',\n",
       " 'DREB',\n",
       " 'REB',\n",
       " 'AST',\n",
       " 'STL',\n",
       " 'BLK',\n",
       " 'TOV',\n",
       " 'TARGET_5Yrs']"
      ]
     },
     "execution_count": 5,
     "metadata": {},
     "output_type": "execute_result"
    }
   ],
   "source": [
    "list(df_cleaned.columns)"
   ]
  },
  {
   "cell_type": "code",
   "execution_count": 6,
   "id": "7d278c0f-ca23-4f31-bfa6-59c56b3fef66",
   "metadata": {},
   "outputs": [],
   "source": [
    "TARGET_5Yrs = df_cleaned.pop('TARGET_5Yrs')"
   ]
  },
  {
   "cell_type": "code",
   "execution_count": 7,
   "id": "a2651c88-994c-405e-93e1-6014cd5d2e0f",
   "metadata": {},
   "outputs": [],
   "source": [
    "from sklearn.model_selection import train_test_split"
   ]
  },
  {
   "cell_type": "code",
   "execution_count": 8,
   "id": "e4e1177a-b7b6-4a02-b048-9c911750625e",
   "metadata": {},
   "outputs": [],
   "source": [
    "X_data, X_test, y_data, y_test = train_test_split (df_cleaned, TARGET_5Yrs, test_size=0.2, random_state=8)"
   ]
  },
  {
   "cell_type": "code",
   "execution_count": 12,
   "id": "fdd4fe1d-3791-46a1-8706-f4e94cb53227",
   "metadata": {},
   "outputs": [],
   "source": [
    "# rejoin X_data and y_data for upsampling\n",
    "\n",
    "Xy_data = pd.concat([X_data, y_data], axis=1)"
   ]
  },
  {
   "cell_type": "code",
   "execution_count": 13,
   "id": "84dca0d6-b592-4e3f-865b-3c8f9ded8c67",
   "metadata": {},
   "outputs": [
    {
     "data": {
      "text/plain": [
       "TARGET_5Yrs\n",
       "0    1074\n",
       "1    5326\n",
       "dtype: int64"
      ]
     },
     "execution_count": 13,
     "metadata": {},
     "output_type": "execute_result"
    }
   ],
   "source": [
    "Xy_data.groupby('TARGET_5Yrs').size()"
   ]
  },
  {
   "cell_type": "code",
   "execution_count": 15,
   "id": "3502dd15-d76d-498b-98a5-f2633a987e89",
   "metadata": {},
   "outputs": [
    {
     "name": "stdout",
     "output_type": "stream",
     "text": [
      "(1074, 20)\n",
      "(5326, 20)\n"
     ]
    }
   ],
   "source": [
    "# split the raw data into two sets using the TARGET_5Yrs variable.\n",
    "\n",
    "TARGET_0 = Xy_data[Xy_data[\"TARGET_5Yrs\"] == 0]\n",
    "TARGET_1 = Xy_data[Xy_data[\"TARGET_5Yrs\"] == 1]\n",
    "print(TARGET_0.shape)\n",
    "print(TARGET_1.shape)"
   ]
  },
  {
   "cell_type": "code",
   "execution_count": 16,
   "id": "0e8480a4-57e5-468d-ba32-5b5273d20552",
   "metadata": {},
   "outputs": [
    {
     "name": "stdout",
     "output_type": "stream",
     "text": [
      "(5326, 20)\n"
     ]
    }
   ],
   "source": [
    "# upsample TARGET_0\n",
    "\n",
    "TARGET_0_ups = resample(TARGET_0, replace=True, n_samples = len(TARGET_1), random_state = 8)\n",
    "\n",
    "print(TARGET_0_ups.shape)"
   ]
  },
  {
   "cell_type": "code",
   "execution_count": 35,
   "id": "50023ae3-09b6-485d-938c-ce931d4308cb",
   "metadata": {},
   "outputs": [
    {
     "name": "stdout",
     "output_type": "stream",
     "text": [
      "(10652, 20)\n",
      "TARGET_5Yrs\n",
      "0    5326\n",
      "1    5326\n",
      "dtype: int64\n"
     ]
    }
   ],
   "source": [
    "Xy_data = pd.concat([TARGET_1, TARGET_0_ups])\n",
    "\n",
    "print(Xy_data.shape)\n",
    "print(Xy_data.groupby('TARGET_5Yrs').size())"
   ]
  },
  {
   "cell_type": "code",
   "execution_count": 36,
   "id": "c6b10e6e-e76e-4632-9cbb-ec0a780a601b",
   "metadata": {},
   "outputs": [
    {
     "name": "stdout",
     "output_type": "stream",
     "text": [
      "(10652, 19)\n",
      "(10652,)\n"
     ]
    }
   ],
   "source": [
    "y_data_ups = Xy_data.pop('TARGET_5Yrs')\n",
    "X_data_ups = Xy_data\n",
    "\n",
    "print(X_data_ups.shape)\n",
    "print(y_data_ups.shape)"
   ]
  },
  {
   "cell_type": "code",
   "execution_count": 37,
   "id": "6bc7af52-c6f5-4740-a00c-536fe9e5ad07",
   "metadata": {},
   "outputs": [],
   "source": [
    "np.save('../data/processed/X_data_ups', X_data_ups)\n",
    "np.save('../data/processed/y_data_ups', y_data_ups)"
   ]
  },
  {
   "cell_type": "code",
   "execution_count": null,
   "id": "ad436593-1960-4497-a914-0e06068c7078",
   "metadata": {},
   "outputs": [],
   "source": []
  },
  {
   "cell_type": "code",
   "execution_count": null,
   "id": "d8642c92-c486-449e-86d6-538e8fec0b93",
   "metadata": {},
   "outputs": [],
   "source": []
  },
  {
   "cell_type": "code",
   "execution_count": null,
   "id": "274042bd-ce09-474f-bcbb-7bd6ff0cfa47",
   "metadata": {},
   "outputs": [],
   "source": []
  },
  {
   "cell_type": "code",
   "execution_count": null,
   "id": "b6d637dc-9ce7-475a-83ea-82cadfc0fa56",
   "metadata": {},
   "outputs": [],
   "source": []
  },
  {
   "cell_type": "code",
   "execution_count": null,
   "id": "6e044db1-7f49-4598-b3b1-fc99cbf963b6",
   "metadata": {},
   "outputs": [],
   "source": []
  }
 ],
 "metadata": {
  "kernelspec": {
   "display_name": "Python 3 (ipykernel)",
   "language": "python",
   "name": "python3"
  },
  "language_info": {
   "codemirror_mode": {
    "name": "ipython",
    "version": 3
   },
   "file_extension": ".py",
   "mimetype": "text/x-python",
   "name": "python",
   "nbconvert_exporter": "python",
   "pygments_lexer": "ipython3",
   "version": "3.8.13"
  }
 },
 "nbformat": 4,
 "nbformat_minor": 5
}
