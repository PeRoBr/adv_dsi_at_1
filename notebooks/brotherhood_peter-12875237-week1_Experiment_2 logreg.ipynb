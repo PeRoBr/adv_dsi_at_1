{
 "cells": [
  {
   "cell_type": "code",
   "execution_count": 1,
   "id": "d7724121-9e11-4393-b7a5-155755d1d59d",
   "metadata": {},
   "outputs": [],
   "source": [
    "import pandas as pd\n",
    "import numpy as np\n",
    "from joblib import dump"
   ]
  },
  {
   "cell_type": "code",
   "execution_count": 2,
   "id": "428d65eb-925a-43ab-8318-046ae967e567",
   "metadata": {},
   "outputs": [],
   "source": [
    "X_train = np.load('../data/processed/X_train.npy')\n",
    "X_val   = np.load('../data/processed/X_val.npy'  )\n",
    "X_test  = np.load('../data/processed/X_test.npy' )\n",
    "y_train = np.load('../data/processed/y_train.npy')\n",
    "y_val   = np.load('../data/processed/y_val.npy'  )\n",
    "y_test  = np.load('../data/processed/y_test.npy' )"
   ]
  },
  {
   "cell_type": "code",
   "execution_count": 3,
   "id": "9b029b9a-d139-4c1c-af82-1dd18fad7f12",
   "metadata": {},
   "outputs": [
    {
     "data": {
      "text/plain": [
       "(5120, 19)"
      ]
     },
     "execution_count": 3,
     "metadata": {},
     "output_type": "execute_result"
    }
   ],
   "source": [
    "X_train.shape"
   ]
  },
  {
   "cell_type": "code",
   "execution_count": 4,
   "id": "e768c0fe-8aed-487c-9156-3e1497f7451a",
   "metadata": {},
   "outputs": [],
   "source": [
    "from sklearn.linear_model import LogisticRegression"
   ]
  },
  {
   "cell_type": "code",
   "execution_count": 8,
   "id": "70d97c0d-3f95-45aa-996b-07c5440ca61a",
   "metadata": {},
   "outputs": [],
   "source": [
    "y_base_med = np.full((len(y_train), 1), 1)"
   ]
  },
  {
   "cell_type": "code",
   "execution_count": 9,
   "id": "31de1574-a83c-4051-bc4c-473ec971491f",
   "metadata": {},
   "outputs": [
    {
     "name": "stdout",
     "output_type": "stream",
     "text": [
      "score on test: 0.835625\n",
      "score on train: 0.8390625\n",
      "score on train: 0.987890625\n"
     ]
    }
   ],
   "source": [
    "lr=LogisticRegression(max_iter=1000)\n",
    "lr.fit(X_train, y_train)\n",
    "print(\"score on test: \" + str(lr.score(X_test, y_test)))\n",
    "print(\"score on train: \"+ str(lr.score(X_train, y_train)))\n",
    "print(\"score on train: \"+ str(lr.score(X_train, y_base_med)))"
   ]
  },
  {
   "cell_type": "code",
   "execution_count": 83,
   "id": "14246760-91c2-45df-8cbb-04fe8af94636",
   "metadata": {},
   "outputs": [
    {
     "data": {
      "text/plain": [
       "['../models/logreg.joblib']"
      ]
     },
     "execution_count": 83,
     "metadata": {},
     "output_type": "execute_result"
    }
   ],
   "source": [
    "dump(lr, '../models/logreg.joblib')"
   ]
  },
  {
   "cell_type": "code",
   "execution_count": 11,
   "id": "20438b3c-ecbc-47aa-8d1f-e89aeb5f6b0b",
   "metadata": {},
   "outputs": [],
   "source": [
    "from sklearn.metrics import roc_auc_score"
   ]
  },
  {
   "cell_type": "code",
   "execution_count": 14,
   "id": "d165f6fe-1c9a-4c1e-8146-e1898dff5de5",
   "metadata": {},
   "outputs": [
    {
     "data": {
      "text/plain": [
       "array([[0.35481219, 0.64518781],\n",
       "       [0.13835926, 0.86164074],\n",
       "       [0.21230303, 0.78769697],\n",
       "       ...,\n",
       "       [0.11986243, 0.88013757],\n",
       "       [0.07406753, 0.92593247],\n",
       "       [0.48022053, 0.51977947]])"
      ]
     },
     "execution_count": 14,
     "metadata": {},
     "output_type": "execute_result"
    }
   ],
   "source": [
    "lr.predict_proba(X_train)"
   ]
  },
  {
   "cell_type": "code",
   "execution_count": 16,
   "id": "564d9d72-3046-45e8-a2b5-9338f50baa3d",
   "metadata": {},
   "outputs": [
    {
     "name": "stdout",
     "output_type": "stream",
     "text": [
      "[1 1 1 ... 1 1 1]\n"
     ]
    }
   ],
   "source": [
    "lr.predict(X_train)"
   ]
  },
  {
   "cell_type": "code",
   "execution_count": 17,
   "id": "0adb3f11-99d4-4c10-8099-f1868bd00c93",
   "metadata": {},
   "outputs": [],
   "source": [
    "from collections import Counter"
   ]
  },
  {
   "cell_type": "code",
   "execution_count": 18,
   "id": "11e7f488-8090-46d3-8cea-33b2bc4ac38c",
   "metadata": {},
   "outputs": [
    {
     "data": {
      "text/plain": [
       "Counter({1: 5058, 0: 62})"
      ]
     },
     "execution_count": 18,
     "metadata": {},
     "output_type": "execute_result"
    }
   ],
   "source": [
    "Counter(lr.predict(X_train))"
   ]
  },
  {
   "cell_type": "code",
   "execution_count": 19,
   "id": "7f84926f-374f-4df4-9927-ac4f338e6e8b",
   "metadata": {},
   "outputs": [
    {
     "data": {
      "text/plain": [
       "Counter({1: 4286, 0: 834})"
      ]
     },
     "execution_count": 19,
     "metadata": {},
     "output_type": "execute_result"
    }
   ],
   "source": [
    "Counter(y_train)"
   ]
  },
  {
   "cell_type": "code",
   "execution_count": 31,
   "id": "f6219326-b929-4dac-ae84-346df0d25196",
   "metadata": {},
   "outputs": [],
   "source": [
    "df_te = pd.read_csv('../data/raw/2022_test.csv')"
   ]
  },
  {
   "cell_type": "code",
   "execution_count": 41,
   "id": "88625189-dbb6-4146-bd75-1b6e5e34935c",
   "metadata": {},
   "outputs": [
    {
     "data": {
      "text/plain": [
       "(3799, 20)"
      ]
     },
     "execution_count": 41,
     "metadata": {},
     "output_type": "execute_result"
    }
   ],
   "source": [
    "df_te.shape"
   ]
  },
  {
   "cell_type": "code",
   "execution_count": 21,
   "id": "562522bf-0aff-4606-988c-e9d5c2a2e7a4",
   "metadata": {},
   "outputs": [],
   "source": [
    "df_te_cleaned = df_te.copy()"
   ]
  },
  {
   "cell_type": "code",
   "execution_count": 23,
   "id": "39c363cc-3667-4c19-8403-8220d682d868",
   "metadata": {},
   "outputs": [],
   "source": [
    "df_te_cleaned.drop('Id', axis=1, inplace=True)"
   ]
  },
  {
   "cell_type": "code",
   "execution_count": 24,
   "id": "4adf1bf4-f205-4fff-8cd8-d89bbd52777f",
   "metadata": {},
   "outputs": [
    {
     "data": {
      "text/plain": [
       "['GP',\n",
       " 'MIN',\n",
       " 'PTS',\n",
       " 'FGM',\n",
       " 'FGA',\n",
       " 'FG%',\n",
       " '3P Made',\n",
       " '3PA',\n",
       " '3P%',\n",
       " 'FTM',\n",
       " 'FTA',\n",
       " 'FT%',\n",
       " 'OREB',\n",
       " 'DREB',\n",
       " 'REB',\n",
       " 'AST',\n",
       " 'STL',\n",
       " 'BLK',\n",
       " 'TOV']"
      ]
     },
     "execution_count": 24,
     "metadata": {},
     "output_type": "execute_result"
    }
   ],
   "source": [
    "list(df_te_cleaned.columns)"
   ]
  },
  {
   "cell_type": "code",
   "execution_count": 26,
   "id": "9e1cb17c-a866-4192-860f-85c4b2cfaa9b",
   "metadata": {},
   "outputs": [],
   "source": [
    "from joblib import load"
   ]
  },
  {
   "cell_type": "code",
   "execution_count": 27,
   "id": "afdb4d9f-dcce-42b9-8de4-092d58932e6d",
   "metadata": {},
   "outputs": [],
   "source": [
    "scaler = load('../models/scaler.joblib')"
   ]
  },
  {
   "cell_type": "code",
   "execution_count": 28,
   "id": "7e69565f-fdf5-4eba-9d70-3161d034d8e5",
   "metadata": {},
   "outputs": [],
   "source": [
    "df_te_cleaned = scaler.transform(df_te_cleaned)"
   ]
  },
  {
   "cell_type": "code",
   "execution_count": 34,
   "id": "4ae1bd2b-2a21-43ed-b400-dbbecec47957",
   "metadata": {},
   "outputs": [
    {
     "data": {
      "text/plain": [
       "Counter({1: 3756, 0: 43})"
      ]
     },
     "execution_count": 34,
     "metadata": {},
     "output_type": "execute_result"
    }
   ],
   "source": [
    "Counter(lr.predict(df_te_cleaned))"
   ]
  },
  {
   "cell_type": "code",
   "execution_count": 30,
   "id": "695791de-27f3-42c0-9caf-04a41ed65e96",
   "metadata": {},
   "outputs": [
    {
     "data": {
      "text/plain": [
       "array([[0.16323   , 0.83677   ],\n",
       "       [0.17965332, 0.82034668],\n",
       "       [0.08190405, 0.91809595],\n",
       "       ...,\n",
       "       [0.26453628, 0.73546372],\n",
       "       [0.03846541, 0.96153459],\n",
       "       [0.23907666, 0.76092334]])"
      ]
     },
     "execution_count": 30,
     "metadata": {},
     "output_type": "execute_result"
    }
   ],
   "source": [
    "lr.predict_proba(df_te_cleaned)"
   ]
  },
  {
   "cell_type": "code",
   "execution_count": 52,
   "id": "58a4b49e-b057-4187-ad18-94093c8a4013",
   "metadata": {},
   "outputs": [],
   "source": [
    "df_pred = pd.DataFrame(lr.predict_proba(df_te_cleaned))"
   ]
  },
  {
   "cell_type": "code",
   "execution_count": 58,
   "id": "a4e56063-9280-4db9-a357-d48fc218071d",
   "metadata": {},
   "outputs": [],
   "source": [
    "df_pred[1].to_csv('../data/processed/test_1.csv')"
   ]
  },
  {
   "cell_type": "markdown",
   "id": "55ec85b2-a18a-4554-a949-1ac57e3593e5",
   "metadata": {},
   "source": [
    "## auroc\n",
    "target = y_val<br>\n",
    "predictions<br> \n",
    "prediction probs = <br>"
   ]
  },
  {
   "cell_type": "code",
   "execution_count": 75,
   "id": "0ea68587-aff3-4697-941c-09b0e04c3138",
   "metadata": {},
   "outputs": [],
   "source": [
    "from sklearn.metrics import roc_auc_score\n",
    "from sklearn.metrics import accuracy_score"
   ]
  },
  {
   "cell_type": "code",
   "execution_count": 63,
   "id": "fe1c5388-f364-4dff-9577-1df34e176522",
   "metadata": {},
   "outputs": [],
   "source": [
    "target = np.array(y_test)"
   ]
  },
  {
   "cell_type": "code",
   "execution_count": 76,
   "id": "d3abc6c9-08b7-4809-90c6-754fd2270357",
   "metadata": {},
   "outputs": [],
   "source": [
    "df_pred_1 = pd.DataFrame(lr.predict_proba(X_test))\n",
    "df_pred_2 = pd.DataFrame(lr.predict(X_test))"
   ]
  },
  {
   "cell_type": "code",
   "execution_count": 78,
   "id": "f6d899c8-9546-4464-b29c-0dd94a261141",
   "metadata": {},
   "outputs": [],
   "source": [
    "pred_probs = np.array(df_pred_1[1])\n",
    "pred_actual = np.array(df_pred_2)"
   ]
  },
  {
   "cell_type": "code",
   "execution_count": 80,
   "id": "c194c7cf-4465-4b57-8b0a-da51b6b80e5f",
   "metadata": {},
   "outputs": [
    {
     "data": {
      "text/plain": [
       "0.7096980741762302"
      ]
     },
     "execution_count": 80,
     "metadata": {},
     "output_type": "execute_result"
    }
   ],
   "source": [
    "roc_auc_score(target, pred_probs)"
   ]
  },
  {
   "cell_type": "code",
   "execution_count": 81,
   "id": "dc12cc38-f613-4acb-aa6d-33afb5a9f9ce",
   "metadata": {},
   "outputs": [
    {
     "data": {
      "text/plain": [
       "0.835625"
      ]
     },
     "execution_count": 81,
     "metadata": {},
     "output_type": "execute_result"
    }
   ],
   "source": [
    "accuracy_score(target, pred_actual)"
   ]
  },
  {
   "cell_type": "code",
   "execution_count": 67,
   "id": "5394ef1d-d510-4f55-b81e-4578224abafa",
   "metadata": {},
   "outputs": [
    {
     "data": {
      "text/plain": [
       "0.837109375"
      ]
     },
     "execution_count": 67,
     "metadata": {},
     "output_type": "execute_result"
    }
   ],
   "source": [
    "y_mean = y_train.mean()\n",
    "y_mean"
   ]
  },
  {
   "cell_type": "code",
   "execution_count": 72,
   "id": "a9a47100-062b-463f-85b0-b3649711a69e",
   "metadata": {},
   "outputs": [
    {
     "data": {
      "text/plain": [
       "array([[0.83710938],\n",
       "       [0.83710938],\n",
       "       [0.83710938],\n",
       "       ...,\n",
       "       [0.83710938],\n",
       "       [0.83710938],\n",
       "       [0.83710938]])"
      ]
     },
     "execution_count": 72,
     "metadata": {},
     "output_type": "execute_result"
    }
   ],
   "source": [
    "y_base = np.full((len(y_test), 1), y_mean)\n",
    "y_base"
   ]
  },
  {
   "cell_type": "code",
   "execution_count": 69,
   "id": "37dee5ea-7a37-42ac-8c09-06e00bc84320",
   "metadata": {},
   "outputs": [
    {
     "data": {
      "text/plain": [
       "0.5"
      ]
     },
     "execution_count": 69,
     "metadata": {},
     "output_type": "execute_result"
    }
   ],
   "source": [
    "roc_auc_score(target, y_base)"
   ]
  },
  {
   "cell_type": "code",
   "execution_count": 70,
   "id": "a4201434-bc62-4581-91db-88d8b543f56e",
   "metadata": {},
   "outputs": [],
   "source": [
    "y_base_1 = np.full((len(y_test), 1), 1)"
   ]
  },
  {
   "cell_type": "code",
   "execution_count": 71,
   "id": "0073d97e-91f0-493b-88ad-a708f8ece24b",
   "metadata": {},
   "outputs": [
    {
     "data": {
      "text/plain": [
       "0.5"
      ]
     },
     "execution_count": 71,
     "metadata": {},
     "output_type": "execute_result"
    }
   ],
   "source": [
    "roc_auc_score(target, y_base_1)"
   ]
  },
  {
   "cell_type": "code",
   "execution_count": 82,
   "id": "c991d1ca-d20a-4fd4-857c-8b7c85c0460c",
   "metadata": {},
   "outputs": [
    {
     "data": {
      "text/plain": [
       "0.839375"
      ]
     },
     "execution_count": 82,
     "metadata": {},
     "output_type": "execute_result"
    }
   ],
   "source": [
    "accuracy_score(target, y_base_1)"
   ]
  },
  {
   "cell_type": "code",
   "execution_count": 73,
   "id": "1a126d70-74d7-47df-8186-63157d5914dc",
   "metadata": {},
   "outputs": [],
   "source": [
    "y_base_05 = np.full((len(y_test), 1), 0.5)"
   ]
  },
  {
   "cell_type": "code",
   "execution_count": 74,
   "id": "1856b9ad-80ce-44d8-a187-0a1fa39f6d6c",
   "metadata": {},
   "outputs": [
    {
     "data": {
      "text/plain": [
       "0.5"
      ]
     },
     "execution_count": 74,
     "metadata": {},
     "output_type": "execute_result"
    }
   ],
   "source": [
    "roc_auc_score(target, y_base_05)"
   ]
  },
  {
   "cell_type": "code",
   "execution_count": null,
   "id": "c178220e-209e-4bbb-93aa-b57def3f6233",
   "metadata": {},
   "outputs": [],
   "source": []
  },
  {
   "cell_type": "code",
   "execution_count": null,
   "id": "2df449d7-d866-4918-9137-40e1f7d58c26",
   "metadata": {},
   "outputs": [],
   "source": []
  },
  {
   "cell_type": "code",
   "execution_count": null,
   "id": "d7ee23fb-d465-4949-997e-4bbf1a8a915b",
   "metadata": {},
   "outputs": [],
   "source": []
  }
 ],
 "metadata": {
  "kernelspec": {
   "display_name": "Python 3 (ipykernel)",
   "language": "python",
   "name": "python3"
  },
  "language_info": {
   "codemirror_mode": {
    "name": "ipython",
    "version": 3
   },
   "file_extension": ".py",
   "mimetype": "text/x-python",
   "name": "python",
   "nbconvert_exporter": "python",
   "pygments_lexer": "ipython3",
   "version": "3.8.13"
  }
 },
 "nbformat": 4,
 "nbformat_minor": 5
}
