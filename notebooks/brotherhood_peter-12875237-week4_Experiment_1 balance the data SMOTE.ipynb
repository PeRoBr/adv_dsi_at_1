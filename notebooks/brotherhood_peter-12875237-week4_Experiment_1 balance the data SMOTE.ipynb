{
 "cells": [
  {
   "cell_type": "markdown",
   "id": "1a680a19-0a5c-4c9b-806f-0fedc35007d8",
   "metadata": {},
   "source": [
    "# Balance training data using Synthetic Sampling"
   ]
  },
  {
   "cell_type": "code",
   "execution_count": 13,
   "id": "8a63b65b-db29-4423-9d01-7f0b9b1105cd",
   "metadata": {},
   "outputs": [],
   "source": [
    "import pandas as pd\n",
    "import numpy as np\n",
    "\n",
    "from joblib import dump\n",
    "from joblib import load\n",
    "\n",
    "from collections import Counter\n",
    "\n",
    "from sklearn.model_selection import train_test_split"
   ]
  },
  {
   "cell_type": "code",
   "execution_count": 2,
   "id": "dd5b618b-9b39-4d72-b5f6-7475b1ed2a69",
   "metadata": {},
   "outputs": [],
   "source": [
    "#Read full, raw, labelled training data\n",
    "\n",
    "df = pd.read_csv('../data/raw/2022_train.csv')"
   ]
  },
  {
   "cell_type": "code",
   "execution_count": 3,
   "id": "e57e9e6f-ce25-482e-b0fa-90d95cd633ce",
   "metadata": {},
   "outputs": [],
   "source": [
    "# Copy full data set to df_cleaned \n",
    "\n",
    "df_cleaned = df.copy()"
   ]
  },
  {
   "cell_type": "code",
   "execution_count": 4,
   "id": "c4b0dc53-9fa7-4ef7-90ea-65717f899447",
   "metadata": {},
   "outputs": [],
   "source": [
    "# Drop Id column\n",
    "\n",
    "df_cleaned.drop('Id', axis=1, inplace=True)"
   ]
  },
  {
   "cell_type": "code",
   "execution_count": 5,
   "id": "423ad311-ec0f-487f-83bd-7befff03b053",
   "metadata": {},
   "outputs": [
    {
     "data": {
      "text/plain": [
       "['GP',\n",
       " 'MIN',\n",
       " 'PTS',\n",
       " 'FGM',\n",
       " 'FGA',\n",
       " 'FG%',\n",
       " '3P Made',\n",
       " '3PA',\n",
       " '3P%',\n",
       " 'FTM',\n",
       " 'FTA',\n",
       " 'FT%',\n",
       " 'OREB',\n",
       " 'DREB',\n",
       " 'REB',\n",
       " 'AST',\n",
       " 'STL',\n",
       " 'BLK',\n",
       " 'TOV',\n",
       " 'TARGET_5Yrs']"
      ]
     },
     "execution_count": 5,
     "metadata": {},
     "output_type": "execute_result"
    }
   ],
   "source": [
    "list(df_cleaned.columns)"
   ]
  },
  {
   "cell_type": "code",
   "execution_count": 6,
   "id": "7d278c0f-ca23-4f31-bfa6-59c56b3fef66",
   "metadata": {},
   "outputs": [],
   "source": [
    "TARGET_5Yrs = df_cleaned.pop('TARGET_5Yrs')"
   ]
  },
  {
   "cell_type": "code",
   "execution_count": 7,
   "id": "1789a464-70c1-4e49-a6da-0e60c88836c3",
   "metadata": {},
   "outputs": [],
   "source": [
    "X_data, X_test, y_data, y_test = train_test_split (df_cleaned, TARGET_5Yrs, test_size=0.2, random_state=8)"
   ]
  },
  {
   "cell_type": "code",
   "execution_count": 11,
   "id": "536cb2c3-d7c2-4ba3-ae82-aa7ccac21aea",
   "metadata": {},
   "outputs": [
    {
     "name": "stdout",
     "output_type": "stream",
     "text": [
      "<class 'pandas.core.frame.DataFrame'>\n",
      "Int64Index: 6400 entries, 3617 to 4547\n",
      "Data columns (total 19 columns):\n",
      " #   Column   Non-Null Count  Dtype  \n",
      "---  ------   --------------  -----  \n",
      " 0   GP       6400 non-null   int64  \n",
      " 1   MIN      6400 non-null   float64\n",
      " 2   PTS      6400 non-null   float64\n",
      " 3   FGM      6400 non-null   float64\n",
      " 4   FGA      6400 non-null   float64\n",
      " 5   FG%      6400 non-null   float64\n",
      " 6   3P Made  6400 non-null   float64\n",
      " 7   3PA      6400 non-null   float64\n",
      " 8   3P%      6400 non-null   float64\n",
      " 9   FTM      6400 non-null   float64\n",
      " 10  FTA      6400 non-null   float64\n",
      " 11  FT%      6400 non-null   float64\n",
      " 12  OREB     6400 non-null   float64\n",
      " 13  DREB     6400 non-null   float64\n",
      " 14  REB      6400 non-null   float64\n",
      " 15  AST      6400 non-null   float64\n",
      " 16  STL      6400 non-null   float64\n",
      " 17  BLK      6400 non-null   float64\n",
      " 18  TOV      6400 non-null   float64\n",
      "dtypes: float64(18), int64(1)\n",
      "memory usage: 1000.0 KB\n",
      "None\n",
      "<class 'pandas.core.series.Series'>\n",
      "Int64Index: 6400 entries, 3617 to 4547\n",
      "Series name: TARGET_5Yrs\n",
      "Non-Null Count  Dtype\n",
      "--------------  -----\n",
      "6400 non-null   int64\n",
      "dtypes: int64(1)\n",
      "memory usage: 100.0 KB\n",
      "None\n",
      "<class 'pandas.core.frame.DataFrame'>\n",
      "Int64Index: 1600 entries, 5297 to 7607\n",
      "Data columns (total 19 columns):\n",
      " #   Column   Non-Null Count  Dtype  \n",
      "---  ------   --------------  -----  \n",
      " 0   GP       1600 non-null   int64  \n",
      " 1   MIN      1600 non-null   float64\n",
      " 2   PTS      1600 non-null   float64\n",
      " 3   FGM      1600 non-null   float64\n",
      " 4   FGA      1600 non-null   float64\n",
      " 5   FG%      1600 non-null   float64\n",
      " 6   3P Made  1600 non-null   float64\n",
      " 7   3PA      1600 non-null   float64\n",
      " 8   3P%      1600 non-null   float64\n",
      " 9   FTM      1600 non-null   float64\n",
      " 10  FTA      1600 non-null   float64\n",
      " 11  FT%      1600 non-null   float64\n",
      " 12  OREB     1600 non-null   float64\n",
      " 13  DREB     1600 non-null   float64\n",
      " 14  REB      1600 non-null   float64\n",
      " 15  AST      1600 non-null   float64\n",
      " 16  STL      1600 non-null   float64\n",
      " 17  BLK      1600 non-null   float64\n",
      " 18  TOV      1600 non-null   float64\n",
      "dtypes: float64(18), int64(1)\n",
      "memory usage: 250.0 KB\n",
      "None\n",
      "<class 'pandas.core.series.Series'>\n",
      "Int64Index: 1600 entries, 5297 to 7607\n",
      "Series name: TARGET_5Yrs\n",
      "Non-Null Count  Dtype\n",
      "--------------  -----\n",
      "1600 non-null   int64\n",
      "dtypes: int64(1)\n",
      "memory usage: 25.0 KB\n",
      "None\n"
     ]
    }
   ],
   "source": [
    "print(X_data.info())\n",
    "print(y_data.info())\n",
    "print(X_test.info())\n",
    "print(y_test.info())"
   ]
  },
  {
   "cell_type": "code",
   "execution_count": 16,
   "id": "ba99ebbb-b96a-4257-8718-bdd85b79eb2b",
   "metadata": {},
   "outputs": [
    {
     "name": "stdout",
     "output_type": "stream",
     "text": [
      "Counter({1: 5326, 0: 1074})\n",
      "Counter({1: 1343, 0: 257})\n"
     ]
    }
   ],
   "source": [
    "print(Counter(y_data))\n",
    "print(Counter(y_test))"
   ]
  },
  {
   "cell_type": "markdown",
   "id": "95141c6a-33b7-411f-8b6c-9100db189ae2",
   "metadata": {},
   "source": [
    "# Balance training dataset by SMOTE"
   ]
  },
  {
   "cell_type": "code",
   "execution_count": 19,
   "id": "a8a475a2-9108-4a88-90b5-14f78a84cb38",
   "metadata": {},
   "outputs": [],
   "source": [
    "from imblearn.over_sampling import SMOTE"
   ]
  },
  {
   "cell_type": "code",
   "execution_count": 20,
   "id": "d2fe93ff-5c2e-4223-a9ec-8a8ab78ffb4b",
   "metadata": {},
   "outputs": [],
   "source": [
    "sm = SMOTE(random_state = 8)"
   ]
  },
  {
   "cell_type": "code",
   "execution_count": 21,
   "id": "7d63f324-2ff8-47c7-b33c-84b75fe1ae5e",
   "metadata": {},
   "outputs": [],
   "source": [
    "X_SMOTE, y_SMOTE = sm.fit_resample(X_data, y_data)"
   ]
  },
  {
   "cell_type": "code",
   "execution_count": 24,
   "id": "d2f39bcd-a38d-4190-8cb9-ae4637e94cef",
   "metadata": {},
   "outputs": [
    {
     "name": "stdout",
     "output_type": "stream",
     "text": [
      "<class 'pandas.core.frame.DataFrame'>\n",
      "RangeIndex: 10652 entries, 0 to 10651\n",
      "Data columns (total 19 columns):\n",
      " #   Column   Non-Null Count  Dtype  \n",
      "---  ------   --------------  -----  \n",
      " 0   GP       10652 non-null  int64  \n",
      " 1   MIN      10652 non-null  float64\n",
      " 2   PTS      10652 non-null  float64\n",
      " 3   FGM      10652 non-null  float64\n",
      " 4   FGA      10652 non-null  float64\n",
      " 5   FG%      10652 non-null  float64\n",
      " 6   3P Made  10652 non-null  float64\n",
      " 7   3PA      10652 non-null  float64\n",
      " 8   3P%      10652 non-null  float64\n",
      " 9   FTM      10652 non-null  float64\n",
      " 10  FTA      10652 non-null  float64\n",
      " 11  FT%      10652 non-null  float64\n",
      " 12  OREB     10652 non-null  float64\n",
      " 13  DREB     10652 non-null  float64\n",
      " 14  REB      10652 non-null  float64\n",
      " 15  AST      10652 non-null  float64\n",
      " 16  STL      10652 non-null  float64\n",
      " 17  BLK      10652 non-null  float64\n",
      " 18  TOV      10652 non-null  float64\n",
      "dtypes: float64(18), int64(1)\n",
      "memory usage: 1.5 MB\n",
      "None\n",
      "Counter({1: 5326, 0: 5326})\n"
     ]
    }
   ],
   "source": [
    "print(X_SMOTE.info())\n",
    "print(Counter(y_SMOTE))"
   ]
  },
  {
   "cell_type": "code",
   "execution_count": 25,
   "id": "3c2d25fc-18f3-41a4-9607-8d121345ffda",
   "metadata": {},
   "outputs": [],
   "source": [
    "np.save('../data/processed/X_SMOTE', X_SMOTE)\n",
    "np.save('../data/processed/y_SMOTE', y_SMOTE)\n",
    "np.save('../data/processed/X_test_SMOTE', X_test)\n",
    "np.save('../data/processed/y_test_SMOTE', y_test)"
   ]
  },
  {
   "cell_type": "code",
   "execution_count": null,
   "id": "8f5eb050-9f7f-41a2-addf-6dd839b4253c",
   "metadata": {},
   "outputs": [],
   "source": []
  },
  {
   "cell_type": "code",
   "execution_count": null,
   "id": "0f8daede-f1b4-4bf2-a9c6-cea3aac6a8e8",
   "metadata": {},
   "outputs": [],
   "source": []
  },
  {
   "cell_type": "code",
   "execution_count": null,
   "id": "cd4b7b23-683c-4acd-86de-807c03bb4660",
   "metadata": {},
   "outputs": [],
   "source": []
  },
  {
   "cell_type": "code",
   "execution_count": null,
   "id": "1e5ae338-d63a-4e3c-83f8-1a5afe463c22",
   "metadata": {},
   "outputs": [],
   "source": []
  },
  {
   "cell_type": "code",
   "execution_count": null,
   "id": "58138103-7500-49b7-9053-caeeb3d7bac7",
   "metadata": {},
   "outputs": [],
   "source": []
  },
  {
   "cell_type": "code",
   "execution_count": null,
   "id": "817ea370-5255-4a5e-abcf-7f80d5b92d45",
   "metadata": {},
   "outputs": [],
   "source": []
  },
  {
   "cell_type": "code",
   "execution_count": null,
   "id": "99722584-56db-48e7-b684-fd3e74784cfa",
   "metadata": {},
   "outputs": [],
   "source": []
  },
  {
   "cell_type": "code",
   "execution_count": null,
   "id": "809b895b-b24d-4b47-b814-6f9a4b45d23d",
   "metadata": {},
   "outputs": [],
   "source": []
  },
  {
   "cell_type": "code",
   "execution_count": null,
   "id": "72d006b2-c749-4b2d-8e13-d91770790cbb",
   "metadata": {},
   "outputs": [],
   "source": []
  },
  {
   "cell_type": "code",
   "execution_count": null,
   "id": "df2b5065-5a3b-4584-b53e-5e7af6cd2927",
   "metadata": {},
   "outputs": [],
   "source": []
  },
  {
   "cell_type": "code",
   "execution_count": null,
   "id": "592a076f-307e-4144-9608-96b13f0ec10d",
   "metadata": {},
   "outputs": [],
   "source": []
  },
  {
   "cell_type": "code",
   "execution_count": null,
   "id": "c9b445e2-5ecb-465f-8cf4-e76349f6b4dd",
   "metadata": {},
   "outputs": [],
   "source": []
  },
  {
   "cell_type": "code",
   "execution_count": 27,
   "id": "8df3d288-ff22-443a-9a7a-c5b7b0690374",
   "metadata": {},
   "outputs": [],
   "source": [
    "from joblib import dump\n",
    "from joblib import load"
   ]
  },
  {
   "cell_type": "code",
   "execution_count": 14,
   "id": "b01daa80-78e0-43ac-a268-65adef30f48c",
   "metadata": {},
   "outputs": [
    {
     "data": {
      "text/plain": [
       "['../models/scaler.joblib']"
      ]
     },
     "execution_count": 14,
     "metadata": {},
     "output_type": "execute_result"
    }
   ],
   "source": [
    "dump(scaler, '../models/scaler.joblib')"
   ]
  },
  {
   "cell_type": "code",
   "execution_count": 30,
   "id": "361e9e71-c454-486c-8dcd-f5731d9acab3",
   "metadata": {},
   "outputs": [],
   "source": [
    "scaler_load = load('../models/scaler.joblib')"
   ]
  },
  {
   "cell_type": "code",
   "execution_count": 15,
   "id": "a2651c88-994c-405e-93e1-6014cd5d2e0f",
   "metadata": {},
   "outputs": [],
   "source": [
    "from sklearn.model_selection import train_test_split"
   ]
  },
  {
   "cell_type": "code",
   "execution_count": 17,
   "id": "e4e1177a-b7b6-4a02-b048-9c911750625e",
   "metadata": {},
   "outputs": [],
   "source": [
    "X_data, X_test, y_data, y_test = train_test_split (df_cleaned, TARGET_5Yrs, test_size=0.2, random_state=8)"
   ]
  },
  {
   "cell_type": "code",
   "execution_count": 18,
   "id": "b689f37d-f0d7-4040-ab90-9090dc4d2742",
   "metadata": {},
   "outputs": [],
   "source": [
    "X_train, X_val, y_train, y_val = train_test_split(X_data, y_data, test_size=0.2, random_state=8)"
   ]
  },
  {
   "cell_type": "code",
   "execution_count": 19,
   "id": "94ea2b51-b9dd-4ca4-917d-fcda6aa10990",
   "metadata": {},
   "outputs": [],
   "source": [
    "np.save('../data/processed/X_train', X_train)\n",
    "np.save('../data/processed/X_val',   X_val)\n",
    "np.save('../data/processed/X_test',  X_test)\n",
    "np.save('../data/processed/y_train', y_train)\n",
    "np.save('../data/processed/y_val',   y_val)\n",
    "np.save('../data/processed/y_test',  y_test)"
   ]
  },
  {
   "cell_type": "markdown",
   "id": "25c28827-1621-40e4-83b9-b2ed1f4e6b65",
   "metadata": {},
   "source": [
    "# Upsample raw data to balance with respect to TARGET_5Yrs variable.\n",
    "follow this tutorial:\n",
    "https://wellsr.com/python/upsampling-and-downsampling-imbalanced-data-in-python/"
   ]
  },
  {
   "cell_type": "code",
   "execution_count": 9,
   "id": "ab09f199-ad53-4b27-a4a6-2aa3eeef758c",
   "metadata": {},
   "outputs": [],
   "source": [
    "#Import requied packages\n",
    "\n",
    "from sklearn.utils import resample"
   ]
  },
  {
   "cell_type": "code",
   "execution_count": 29,
   "id": "f3d2cf55-1365-4e7b-8134-5fef1a01cc8e",
   "metadata": {},
   "outputs": [],
   "source": [
    "# Copy raw data for upsampling\n",
    "\n",
    "df_upsample = df.copy()"
   ]
  },
  {
   "cell_type": "code",
   "execution_count": 30,
   "id": "9b9bb313-a4ca-4d3d-b790-18cef97cb4c5",
   "metadata": {},
   "outputs": [
    {
     "data": {
      "text/plain": [
       "TARGET_5Yrs\n",
       "0    1331\n",
       "1    6669\n",
       "dtype: int64"
      ]
     },
     "execution_count": 30,
     "metadata": {},
     "output_type": "execute_result"
    }
   ],
   "source": [
    "# count the instances of each target category\n",
    "\n",
    "df_upsample.groupby('TARGET_5Yrs').size()"
   ]
  },
  {
   "cell_type": "code",
   "execution_count": 12,
   "id": "efa94d79-570f-4904-a0c0-c39d18adf347",
   "metadata": {},
   "outputs": [
    {
     "ename": "NameError",
     "evalue": "name 'df_upsample' is not defined",
     "output_type": "error",
     "traceback": [
      "\u001b[0;31m---------------------------------------------------------------------------\u001b[0m",
      "\u001b[0;31mNameError\u001b[0m                                 Traceback (most recent call last)",
      "Cell \u001b[0;32mIn [12], line 3\u001b[0m\n\u001b[1;32m      1\u001b[0m \u001b[38;5;66;03m# split the raw data into two sets using the TARGET_5Yrs variable.\u001b[39;00m\n\u001b[0;32m----> 3\u001b[0m TARGET_0 \u001b[38;5;241m=\u001b[39m \u001b[43mdf_upsample\u001b[49m[df_upsample[\u001b[38;5;124m\"\u001b[39m\u001b[38;5;124mTARGET_5Yrs\u001b[39m\u001b[38;5;124m\"\u001b[39m] \u001b[38;5;241m==\u001b[39m \u001b[38;5;241m0\u001b[39m]\n\u001b[1;32m      4\u001b[0m TARGET_1 \u001b[38;5;241m=\u001b[39m df_upsample[df_upsample[\u001b[38;5;124m\"\u001b[39m\u001b[38;5;124mTARGET_5Yrs\u001b[39m\u001b[38;5;124m\"\u001b[39m] \u001b[38;5;241m==\u001b[39m \u001b[38;5;241m1\u001b[39m]\n\u001b[1;32m      5\u001b[0m \u001b[38;5;28mprint\u001b[39m(TARGET_0\u001b[38;5;241m.\u001b[39mshape)\n",
      "\u001b[0;31mNameError\u001b[0m: name 'df_upsample' is not defined"
     ]
    }
   ],
   "source": [
    "# split the raw data into two sets using the TARGET_5Yrs variable.\n",
    "\n",
    "TARGET_0 = df_upsample[df_upsample[\"TARGET_5Yrs\"] == 0]\n",
    "TARGET_1 = df_upsample[df_upsample[\"TARGET_5Yrs\"] == 1]\n",
    "print(TARGET_0.shape)\n",
    "print(TARGET_1.shape)"
   ]
  },
  {
   "cell_type": "code",
   "execution_count": 32,
   "id": "4a0a1e24-199b-4a92-bc30-8e23357b76c1",
   "metadata": {},
   "outputs": [
    {
     "name": "stdout",
     "output_type": "stream",
     "text": [
      "(6669, 21)\n"
     ]
    }
   ],
   "source": [
    "# upsample TARGET_0\n",
    "\n",
    "TARGET_0_ups = resample(TARGET_0, replace=True, n_samples = len(TARGET_1), random_state = 8)\n",
    "\n",
    "print(TARGET_0_ups.shape)"
   ]
  },
  {
   "cell_type": "code",
   "execution_count": 33,
   "id": "0b1269fc-3316-4887-a76a-9074cde311df",
   "metadata": {},
   "outputs": [
    {
     "name": "stdout",
     "output_type": "stream",
     "text": [
      "(13338, 21)\n",
      "TARGET_5Yrs\n",
      "0    6669\n",
      "1    6669\n",
      "dtype: int64\n"
     ]
    }
   ],
   "source": [
    "df_upsample = pd.concat([TARGET_1, TARGET_0_ups])\n",
    "\n",
    "print(df_upsample.shape)\n",
    "print(df_upsample.groupby('TARGET_5Yrs').size())"
   ]
  },
  {
   "cell_type": "code",
   "execution_count": 34,
   "id": "267cecc8-78aa-439a-99b5-0a732aecc3a4",
   "metadata": {},
   "outputs": [
    {
     "data": {
      "text/plain": [
       "['../models/scaler_ups.joblib']"
      ]
     },
     "execution_count": 34,
     "metadata": {},
     "output_type": "execute_result"
    }
   ],
   "source": [
    "df_upsample.drop('Id', axis=1, inplace=True)\n",
    "TARGET_UPS = df_upsample.pop('TARGET_5Yrs')\n",
    "\n",
    "scaler_ups = StandardScaler()\n",
    "\n",
    "df_upsample = scaler_ups.fit_transform(df_upsample)\n",
    "\n",
    "dump(scaler_ups, '../models/scaler_ups.joblib')"
   ]
  },
  {
   "cell_type": "code",
   "execution_count": 37,
   "id": "5978006e-e3b1-40b2-a71c-ef9482adbfb3",
   "metadata": {},
   "outputs": [],
   "source": [
    "X_ups_data, X_ups_test, y_ups_data, y_ups_test = train_test_split (df_upsample, TARGET_UPS, test_size=0.2, random_state=8)"
   ]
  },
  {
   "cell_type": "code",
   "execution_count": 39,
   "id": "6bc7af52-c6f5-4740-a00c-536fe9e5ad07",
   "metadata": {},
   "outputs": [],
   "source": [
    "np.save('../data/processed/X_ups_data', X_ups_data)\n",
    "np.save('../data/processed/X_ups_test',  X_ups_test)\n",
    "np.save('../data/processed/y_ups_data', y_ups_data)\n",
    "np.save('../data/processed/y_ups_test',  y_ups_test)"
   ]
  },
  {
   "cell_type": "code",
   "execution_count": null,
   "id": "ad436593-1960-4497-a914-0e06068c7078",
   "metadata": {},
   "outputs": [],
   "source": []
  },
  {
   "cell_type": "code",
   "execution_count": null,
   "id": "d8642c92-c486-449e-86d6-538e8fec0b93",
   "metadata": {},
   "outputs": [],
   "source": []
  },
  {
   "cell_type": "code",
   "execution_count": null,
   "id": "274042bd-ce09-474f-bcbb-7bd6ff0cfa47",
   "metadata": {},
   "outputs": [],
   "source": []
  },
  {
   "cell_type": "code",
   "execution_count": null,
   "id": "b6d637dc-9ce7-475a-83ea-82cadfc0fa56",
   "metadata": {},
   "outputs": [],
   "source": []
  },
  {
   "cell_type": "code",
   "execution_count": null,
   "id": "6e044db1-7f49-4598-b3b1-fc99cbf963b6",
   "metadata": {},
   "outputs": [],
   "source": []
  }
 ],
 "metadata": {
  "kernelspec": {
   "display_name": "Python 3 (ipykernel)",
   "language": "python",
   "name": "python3"
  },
  "language_info": {
   "codemirror_mode": {
    "name": "ipython",
    "version": 3
   },
   "file_extension": ".py",
   "mimetype": "text/x-python",
   "name": "python",
   "nbconvert_exporter": "python",
   "pygments_lexer": "ipython3",
   "version": "3.8.13"
  }
 },
 "nbformat": 4,
 "nbformat_minor": 5
}
