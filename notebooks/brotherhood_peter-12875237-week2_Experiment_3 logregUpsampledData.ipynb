{
 "cells": [
  {
   "cell_type": "code",
   "execution_count": 16,
   "id": "d7724121-9e11-4393-b7a5-155755d1d59d",
   "metadata": {},
   "outputs": [],
   "source": [
    "import pandas as pd\n",
    "import numpy as np\n",
    "from joblib import dump\n",
    "\n",
    "from sklearn.linear_model import LogisticRegression\n",
    "\n",
    "from collections import Counter"
   ]
  },
  {
   "cell_type": "code",
   "execution_count": 37,
   "id": "428d65eb-925a-43ab-8318-046ae967e567",
   "metadata": {},
   "outputs": [],
   "source": [
    "# load processed upscaled datasets\n",
    "\n",
    "\n",
    "X_ups_data = np.load('../data/processed/X_ups_data.npy')\n",
    "X_ups_test = np.load('../data/processed/X_ups_test.npy')\n",
    "y_ups_data = np.load('../data/processed/y_ups_data.npy')\n",
    "y_ups_test = np.load('../data/processed/y_ups_test.npy')\n",
    "\n",
    "# X_train = np.load('../data/processed/X_train.npy')\n",
    "# X_val   = np.load('../data/processed/X_val.npy'  )\n",
    "X_test  = np.load('../data/processed/X_test.npy' )\n",
    "# y_train = np.load('../data/processed/y_train.npy')\n",
    "# y_val   = np.load('../data/processed/y_val.npy'  )\n",
    "y_test  = np.load('../data/processed/y_test.npy' )\n"
   ]
  },
  {
   "cell_type": "code",
   "execution_count": 47,
   "id": "9b029b9a-d139-4c1c-af82-1dd18fad7f12",
   "metadata": {},
   "outputs": [
    {
     "name": "stdout",
     "output_type": "stream",
     "text": [
      "(10670, 19)\n",
      "(2668, 19)\n",
      "(10670,)\n",
      "(2668,)\n",
      "(1600, 19)\n",
      "(1600,)\n",
      "Counter({1: 1343, 0: 257})\n"
     ]
    }
   ],
   "source": [
    "print(X_ups_data.shape)\n",
    "print(X_ups_test.shape)\n",
    "print(y_ups_data.shape)\n",
    "print(y_ups_test.shape)\n",
    "\n",
    "print(X_test.shape)\n",
    "print(y_test.shape)\n",
    "print(Counter(y_test))"
   ]
  },
  {
   "cell_type": "code",
   "execution_count": 13,
   "id": "31de1574-a83c-4051-bc4c-473ec971491f",
   "metadata": {},
   "outputs": [
    {
     "data": {
      "text/html": [
       "<style>#sk-container-id-1 {color: black;background-color: white;}#sk-container-id-1 pre{padding: 0;}#sk-container-id-1 div.sk-toggleable {background-color: white;}#sk-container-id-1 label.sk-toggleable__label {cursor: pointer;display: block;width: 100%;margin-bottom: 0;padding: 0.3em;box-sizing: border-box;text-align: center;}#sk-container-id-1 label.sk-toggleable__label-arrow:before {content: \"▸\";float: left;margin-right: 0.25em;color: #696969;}#sk-container-id-1 label.sk-toggleable__label-arrow:hover:before {color: black;}#sk-container-id-1 div.sk-estimator:hover label.sk-toggleable__label-arrow:before {color: black;}#sk-container-id-1 div.sk-toggleable__content {max-height: 0;max-width: 0;overflow: hidden;text-align: left;background-color: #f0f8ff;}#sk-container-id-1 div.sk-toggleable__content pre {margin: 0.2em;color: black;border-radius: 0.25em;background-color: #f0f8ff;}#sk-container-id-1 input.sk-toggleable__control:checked~div.sk-toggleable__content {max-height: 200px;max-width: 100%;overflow: auto;}#sk-container-id-1 input.sk-toggleable__control:checked~label.sk-toggleable__label-arrow:before {content: \"▾\";}#sk-container-id-1 div.sk-estimator input.sk-toggleable__control:checked~label.sk-toggleable__label {background-color: #d4ebff;}#sk-container-id-1 div.sk-label input.sk-toggleable__control:checked~label.sk-toggleable__label {background-color: #d4ebff;}#sk-container-id-1 input.sk-hidden--visually {border: 0;clip: rect(1px 1px 1px 1px);clip: rect(1px, 1px, 1px, 1px);height: 1px;margin: -1px;overflow: hidden;padding: 0;position: absolute;width: 1px;}#sk-container-id-1 div.sk-estimator {font-family: monospace;background-color: #f0f8ff;border: 1px dotted black;border-radius: 0.25em;box-sizing: border-box;margin-bottom: 0.5em;}#sk-container-id-1 div.sk-estimator:hover {background-color: #d4ebff;}#sk-container-id-1 div.sk-parallel-item::after {content: \"\";width: 100%;border-bottom: 1px solid gray;flex-grow: 1;}#sk-container-id-1 div.sk-label:hover label.sk-toggleable__label {background-color: #d4ebff;}#sk-container-id-1 div.sk-serial::before {content: \"\";position: absolute;border-left: 1px solid gray;box-sizing: border-box;top: 0;bottom: 0;left: 50%;z-index: 0;}#sk-container-id-1 div.sk-serial {display: flex;flex-direction: column;align-items: center;background-color: white;padding-right: 0.2em;padding-left: 0.2em;position: relative;}#sk-container-id-1 div.sk-item {position: relative;z-index: 1;}#sk-container-id-1 div.sk-parallel {display: flex;align-items: stretch;justify-content: center;background-color: white;position: relative;}#sk-container-id-1 div.sk-item::before, #sk-container-id-1 div.sk-parallel-item::before {content: \"\";position: absolute;border-left: 1px solid gray;box-sizing: border-box;top: 0;bottom: 0;left: 50%;z-index: -1;}#sk-container-id-1 div.sk-parallel-item {display: flex;flex-direction: column;z-index: 1;position: relative;background-color: white;}#sk-container-id-1 div.sk-parallel-item:first-child::after {align-self: flex-end;width: 50%;}#sk-container-id-1 div.sk-parallel-item:last-child::after {align-self: flex-start;width: 50%;}#sk-container-id-1 div.sk-parallel-item:only-child::after {width: 0;}#sk-container-id-1 div.sk-dashed-wrapped {border: 1px dashed gray;margin: 0 0.4em 0.5em 0.4em;box-sizing: border-box;padding-bottom: 0.4em;background-color: white;}#sk-container-id-1 div.sk-label label {font-family: monospace;font-weight: bold;display: inline-block;line-height: 1.2em;}#sk-container-id-1 div.sk-label-container {text-align: center;}#sk-container-id-1 div.sk-container {/* jupyter's `normalize.less` sets `[hidden] { display: none; }` but bootstrap.min.css set `[hidden] { display: none !important; }` so we also need the `!important` here to be able to override the default hidden behavior on the sphinx rendered scikit-learn.org. See: https://github.com/scikit-learn/scikit-learn/issues/21755 */display: inline-block !important;position: relative;}#sk-container-id-1 div.sk-text-repr-fallback {display: none;}</style><div id=\"sk-container-id-1\" class=\"sk-top-container\"><div class=\"sk-text-repr-fallback\"><pre>LogisticRegression(max_iter=1000)</pre><b>In a Jupyter environment, please rerun this cell to show the HTML representation or trust the notebook. <br />On GitHub, the HTML representation is unable to render, please try loading this page with nbviewer.org.</b></div><div class=\"sk-container\" hidden><div class=\"sk-item\"><div class=\"sk-estimator sk-toggleable\"><input class=\"sk-toggleable__control sk-hidden--visually\" id=\"sk-estimator-id-1\" type=\"checkbox\" checked><label for=\"sk-estimator-id-1\" class=\"sk-toggleable__label sk-toggleable__label-arrow\">LogisticRegression</label><div class=\"sk-toggleable__content\"><pre>LogisticRegression(max_iter=1000)</pre></div></div></div></div></div>"
      ],
      "text/plain": [
       "LogisticRegression(max_iter=1000)"
      ]
     },
     "execution_count": 13,
     "metadata": {},
     "output_type": "execute_result"
    }
   ],
   "source": [
    "lr=LogisticRegression(max_iter=1000)\n",
    "lr.fit(X_ups_data, y_ups_data)\n"
   ]
  },
  {
   "cell_type": "code",
   "execution_count": 83,
   "id": "14246760-91c2-45df-8cbb-04fe8af94636",
   "metadata": {},
   "outputs": [
    {
     "data": {
      "text/plain": [
       "['../models/logreg.joblib']"
      ]
     },
     "execution_count": 83,
     "metadata": {},
     "output_type": "execute_result"
    }
   ],
   "source": [
    "dump(lr, '../models/logreg.joblib')"
   ]
  },
  {
   "cell_type": "code",
   "execution_count": 11,
   "id": "20438b3c-ecbc-47aa-8d1f-e89aeb5f6b0b",
   "metadata": {},
   "outputs": [],
   "source": [
    "from sklearn.metrics import roc_auc_score"
   ]
  },
  {
   "cell_type": "code",
   "execution_count": 14,
   "id": "d165f6fe-1c9a-4c1e-8146-e1898dff5de5",
   "metadata": {},
   "outputs": [
    {
     "data": {
      "text/plain": [
       "array([[0.6512953 , 0.3487047 ],\n",
       "       [0.80146224, 0.19853776],\n",
       "       [0.2706868 , 0.7293132 ],\n",
       "       ...,\n",
       "       [0.17627586, 0.82372414],\n",
       "       [0.84935344, 0.15064656],\n",
       "       [0.23228377, 0.76771623]])"
      ]
     },
     "execution_count": 14,
     "metadata": {},
     "output_type": "execute_result"
    }
   ],
   "source": [
    "lr.predict_proba(X_ups_data)"
   ]
  },
  {
   "cell_type": "code",
   "execution_count": 15,
   "id": "564d9d72-3046-45e8-a2b5-9338f50baa3d",
   "metadata": {},
   "outputs": [
    {
     "data": {
      "text/plain": [
       "array([0, 0, 1, ..., 1, 0, 1])"
      ]
     },
     "execution_count": 15,
     "metadata": {},
     "output_type": "execute_result"
    }
   ],
   "source": [
    "lr.predict(X_ups_data)"
   ]
  },
  {
   "cell_type": "code",
   "execution_count": 17,
   "id": "11e7f488-8090-46d3-8cea-33b2bc4ac38c",
   "metadata": {},
   "outputs": [
    {
     "data": {
      "text/plain": [
       "Counter({0: 5487, 1: 5183})"
      ]
     },
     "execution_count": 17,
     "metadata": {},
     "output_type": "execute_result"
    }
   ],
   "source": [
    "Counter(lr.predict(X_ups_data))"
   ]
  },
  {
   "cell_type": "code",
   "execution_count": 18,
   "id": "7f84926f-374f-4df4-9927-ac4f338e6e8b",
   "metadata": {},
   "outputs": [
    {
     "data": {
      "text/plain": [
       "Counter({0: 5337, 1: 5333})"
      ]
     },
     "execution_count": 18,
     "metadata": {},
     "output_type": "execute_result"
    }
   ],
   "source": [
    "Counter(y_ups_data)"
   ]
  },
  {
   "cell_type": "code",
   "execution_count": 19,
   "id": "f6219326-b929-4dac-ae84-346df0d25196",
   "metadata": {},
   "outputs": [],
   "source": [
    "df_te = pd.read_csv('../data/raw/2022_test.csv')"
   ]
  },
  {
   "cell_type": "code",
   "execution_count": 41,
   "id": "88625189-dbb6-4146-bd75-1b6e5e34935c",
   "metadata": {},
   "outputs": [
    {
     "data": {
      "text/plain": [
       "(3799, 20)"
      ]
     },
     "execution_count": 41,
     "metadata": {},
     "output_type": "execute_result"
    }
   ],
   "source": [
    "df_te.shape"
   ]
  },
  {
   "cell_type": "code",
   "execution_count": 20,
   "id": "562522bf-0aff-4606-988c-e9d5c2a2e7a4",
   "metadata": {},
   "outputs": [],
   "source": [
    "df_te_cleaned = df_te.copy()"
   ]
  },
  {
   "cell_type": "code",
   "execution_count": 21,
   "id": "39c363cc-3667-4c19-8403-8220d682d868",
   "metadata": {},
   "outputs": [],
   "source": [
    "df_te_cleaned.drop('Id', axis=1, inplace=True)"
   ]
  },
  {
   "cell_type": "code",
   "execution_count": 22,
   "id": "4adf1bf4-f205-4fff-8cd8-d89bbd52777f",
   "metadata": {},
   "outputs": [
    {
     "data": {
      "text/plain": [
       "['GP',\n",
       " 'MIN',\n",
       " 'PTS',\n",
       " 'FGM',\n",
       " 'FGA',\n",
       " 'FG%',\n",
       " '3P Made',\n",
       " '3PA',\n",
       " '3P%',\n",
       " 'FTM',\n",
       " 'FTA',\n",
       " 'FT%',\n",
       " 'OREB',\n",
       " 'DREB',\n",
       " 'REB',\n",
       " 'AST',\n",
       " 'STL',\n",
       " 'BLK',\n",
       " 'TOV']"
      ]
     },
     "execution_count": 22,
     "metadata": {},
     "output_type": "execute_result"
    }
   ],
   "source": [
    "list(df_te_cleaned.columns)"
   ]
  },
  {
   "cell_type": "code",
   "execution_count": 23,
   "id": "9e1cb17c-a866-4192-860f-85c4b2cfaa9b",
   "metadata": {},
   "outputs": [],
   "source": [
    "from joblib import load"
   ]
  },
  {
   "cell_type": "code",
   "execution_count": 24,
   "id": "afdb4d9f-dcce-42b9-8de4-092d58932e6d",
   "metadata": {},
   "outputs": [],
   "source": [
    "scaler = load('../models/scaler_ups.joblib')"
   ]
  },
  {
   "cell_type": "code",
   "execution_count": 25,
   "id": "7e69565f-fdf5-4eba-9d70-3161d034d8e5",
   "metadata": {},
   "outputs": [],
   "source": [
    "df_te_cleaned = scaler.transform(df_te_cleaned)"
   ]
  },
  {
   "cell_type": "code",
   "execution_count": 26,
   "id": "4ae1bd2b-2a21-43ed-b400-dbbecec47957",
   "metadata": {},
   "outputs": [
    {
     "data": {
      "text/plain": [
       "Counter({1: 2225, 0: 1574})"
      ]
     },
     "execution_count": 26,
     "metadata": {},
     "output_type": "execute_result"
    }
   ],
   "source": [
    "Counter(lr.predict(df_te_cleaned))"
   ]
  },
  {
   "cell_type": "code",
   "execution_count": 30,
   "id": "695791de-27f3-42c0-9caf-04a41ed65e96",
   "metadata": {},
   "outputs": [
    {
     "data": {
      "text/plain": [
       "array([[0.16323   , 0.83677   ],\n",
       "       [0.17965332, 0.82034668],\n",
       "       [0.08190405, 0.91809595],\n",
       "       ...,\n",
       "       [0.26453628, 0.73546372],\n",
       "       [0.03846541, 0.96153459],\n",
       "       [0.23907666, 0.76092334]])"
      ]
     },
     "execution_count": 30,
     "metadata": {},
     "output_type": "execute_result"
    }
   ],
   "source": [
    "lr.predict_proba(df_te_cleaned)"
   ]
  },
  {
   "cell_type": "code",
   "execution_count": 27,
   "id": "58a4b49e-b057-4187-ad18-94093c8a4013",
   "metadata": {},
   "outputs": [],
   "source": [
    "df_pred = pd.DataFrame(lr.predict_proba(df_te_cleaned))"
   ]
  },
  {
   "cell_type": "code",
   "execution_count": 28,
   "id": "a4e56063-9280-4db9-a357-d48fc218071d",
   "metadata": {},
   "outputs": [],
   "source": [
    "df_pred[1].to_csv('../data/processed/test_ups.csv')"
   ]
  },
  {
   "cell_type": "markdown",
   "id": "55ec85b2-a18a-4554-a949-1ac57e3593e5",
   "metadata": {},
   "source": [
    "## auroc\n",
    "target = y_val<br>\n",
    "predictions<br> \n",
    "prediction probs = <br>"
   ]
  },
  {
   "cell_type": "code",
   "execution_count": 31,
   "id": "0ea68587-aff3-4697-941c-09b0e04c3138",
   "metadata": {},
   "outputs": [],
   "source": [
    "from sklearn.metrics import roc_auc_score\n",
    "from sklearn.metrics import accuracy_score"
   ]
  },
  {
   "cell_type": "code",
   "execution_count": 39,
   "id": "fe1c5388-f364-4dff-9577-1df34e176522",
   "metadata": {},
   "outputs": [],
   "source": [
    "target = np.array(y_test)"
   ]
  },
  {
   "cell_type": "code",
   "execution_count": 40,
   "id": "d3abc6c9-08b7-4809-90c6-754fd2270357",
   "metadata": {},
   "outputs": [],
   "source": [
    "df_pred_1 = pd.DataFrame(lr.predict_proba(X_test))\n",
    "df_pred_2 = pd.DataFrame(lr.predict(X_test))"
   ]
  },
  {
   "cell_type": "code",
   "execution_count": 41,
   "id": "f6d899c8-9546-4464-b29c-0dd94a261141",
   "metadata": {},
   "outputs": [],
   "source": [
    "pred_probs = np.array(df_pred_1[1])\n",
    "pred_actual = np.array(df_pred_2)"
   ]
  },
  {
   "cell_type": "code",
   "execution_count": 42,
   "id": "c194c7cf-4465-4b57-8b0a-da51b6b80e5f",
   "metadata": {},
   "outputs": [
    {
     "data": {
      "text/plain": [
       "0.7120564622440613"
      ]
     },
     "execution_count": 42,
     "metadata": {},
     "output_type": "execute_result"
    }
   ],
   "source": [
    "roc_auc_score(target, pred_probs)"
   ]
  },
  {
   "cell_type": "code",
   "execution_count": 43,
   "id": "dc12cc38-f613-4acb-aa6d-33afb5a9f9ce",
   "metadata": {},
   "outputs": [
    {
     "data": {
      "text/plain": [
       "0.5725"
      ]
     },
     "execution_count": 43,
     "metadata": {},
     "output_type": "execute_result"
    }
   ],
   "source": [
    "accuracy_score(target, pred_actual)"
   ]
  },
  {
   "cell_type": "code",
   "execution_count": 67,
   "id": "5394ef1d-d510-4f55-b81e-4578224abafa",
   "metadata": {},
   "outputs": [
    {
     "data": {
      "text/plain": [
       "0.837109375"
      ]
     },
     "execution_count": 67,
     "metadata": {},
     "output_type": "execute_result"
    }
   ],
   "source": [
    "y_mean = y_train.mean()\n",
    "y_mean"
   ]
  },
  {
   "cell_type": "code",
   "execution_count": 72,
   "id": "a9a47100-062b-463f-85b0-b3649711a69e",
   "metadata": {},
   "outputs": [
    {
     "data": {
      "text/plain": [
       "array([[0.83710938],\n",
       "       [0.83710938],\n",
       "       [0.83710938],\n",
       "       ...,\n",
       "       [0.83710938],\n",
       "       [0.83710938],\n",
       "       [0.83710938]])"
      ]
     },
     "execution_count": 72,
     "metadata": {},
     "output_type": "execute_result"
    }
   ],
   "source": [
    "y_base = np.full((len(y_test), 1), y_mean)\n",
    "y_base"
   ]
  },
  {
   "cell_type": "code",
   "execution_count": 69,
   "id": "37dee5ea-7a37-42ac-8c09-06e00bc84320",
   "metadata": {},
   "outputs": [
    {
     "data": {
      "text/plain": [
       "0.5"
      ]
     },
     "execution_count": 69,
     "metadata": {},
     "output_type": "execute_result"
    }
   ],
   "source": [
    "roc_auc_score(target, y_base)"
   ]
  },
  {
   "cell_type": "code",
   "execution_count": 70,
   "id": "a4201434-bc62-4581-91db-88d8b543f56e",
   "metadata": {},
   "outputs": [],
   "source": [
    "y_base_1 = np.full((len(y_test), 1), 1)"
   ]
  },
  {
   "cell_type": "code",
   "execution_count": 71,
   "id": "0073d97e-91f0-493b-88ad-a708f8ece24b",
   "metadata": {},
   "outputs": [
    {
     "data": {
      "text/plain": [
       "0.5"
      ]
     },
     "execution_count": 71,
     "metadata": {},
     "output_type": "execute_result"
    }
   ],
   "source": [
    "roc_auc_score(target, y_base_1)"
   ]
  },
  {
   "cell_type": "code",
   "execution_count": 82,
   "id": "c991d1ca-d20a-4fd4-857c-8b7c85c0460c",
   "metadata": {},
   "outputs": [
    {
     "data": {
      "text/plain": [
       "0.839375"
      ]
     },
     "execution_count": 82,
     "metadata": {},
     "output_type": "execute_result"
    }
   ],
   "source": [
    "accuracy_score(target, y_base_1)"
   ]
  },
  {
   "cell_type": "code",
   "execution_count": 73,
   "id": "1a126d70-74d7-47df-8186-63157d5914dc",
   "metadata": {},
   "outputs": [],
   "source": [
    "y_base_05 = np.full((len(y_test), 1), 0.5)"
   ]
  },
  {
   "cell_type": "code",
   "execution_count": 74,
   "id": "1856b9ad-80ce-44d8-a187-0a1fa39f6d6c",
   "metadata": {},
   "outputs": [
    {
     "data": {
      "text/plain": [
       "0.5"
      ]
     },
     "execution_count": 74,
     "metadata": {},
     "output_type": "execute_result"
    }
   ],
   "source": [
    "roc_auc_score(target, y_base_05)"
   ]
  },
  {
   "cell_type": "code",
   "execution_count": null,
   "id": "c178220e-209e-4bbb-93aa-b57def3f6233",
   "metadata": {},
   "outputs": [],
   "source": []
  },
  {
   "cell_type": "code",
   "execution_count": null,
   "id": "2df449d7-d866-4918-9137-40e1f7d58c26",
   "metadata": {},
   "outputs": [],
   "source": []
  },
  {
   "cell_type": "code",
   "execution_count": null,
   "id": "d7ee23fb-d465-4949-997e-4bbf1a8a915b",
   "metadata": {},
   "outputs": [],
   "source": []
  }
 ],
 "metadata": {
  "kernelspec": {
   "display_name": "Python 3 (ipykernel)",
   "language": "python",
   "name": "python3"
  },
  "language_info": {
   "codemirror_mode": {
    "name": "ipython",
    "version": 3
   },
   "file_extension": ".py",
   "mimetype": "text/x-python",
   "name": "python",
   "nbconvert_exporter": "python",
   "pygments_lexer": "ipython3",
   "version": "3.8.13"
  }
 },
 "nbformat": 4,
 "nbformat_minor": 5
}
